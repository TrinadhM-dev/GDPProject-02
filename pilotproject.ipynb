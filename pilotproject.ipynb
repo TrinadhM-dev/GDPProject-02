{
 "cells": [
  {
   "cell_type": "code",
   "execution_count": 11,
   "metadata": {},
   "outputs": [],
   "source": [
    "import warnings"
   ]
  },
  {
   "cell_type": "code",
   "execution_count": 12,
   "metadata": {},
   "outputs": [],
   "source": [
    "warnings.filterwarnings(\"ignore\")\n",
    "import nltk\n",
    "from nltk.stem import WordNetLemmatizer\n",
    "import json\n",
    "import pickle"
   ]
  },
  {
   "cell_type": "code",
   "execution_count": 13,
   "metadata": {},
   "outputs": [],
   "source": [
    "import numpy as np\n",
    "from tensorflow.keras.models import Sequential\n",
    "from tensorflow.keras.layers import Dense, Activation, Dropout\n",
    "from tensorflow.keras.optimizers import SGD\n",
    "import random\n",
    "from keras.models import load_model"
   ]
  },
  {
   "cell_type": "code",
   "execution_count": 14,
   "metadata": {},
   "outputs": [],
   "source": [
    "import pandas as pd"
   ]
  },
  {
   "cell_type": "code",
   "execution_count": 15,
   "metadata": {},
   "outputs": [],
   "source": [
    "# create an object of WordNetLemmatizer\n",
    "lemmatizer = WordNetLemmatizer()"
   ]
  },
  {
   "cell_type": "code",
   "execution_count": 16,
   "metadata": {},
   "outputs": [],
   "source": [
    "# importing the GL Bot corpus file for pre-processing\n",
    "\n",
    "words=[]\n",
    "classes = []\n",
    "documents = []\n",
    "ignore_words = ['?', '!']"
   ]
  },
  {
   "cell_type": "code",
   "execution_count": 17,
   "metadata": {},
   "outputs": [],
   "source": [
    "#data_file = open(\"data.json\").read()\n",
    "#intents = json.loads(data_file)"
   ]
  },
  {
   "cell_type": "code",
   "execution_count": 20,
   "metadata": {},
   "outputs": [],
   "source": [
    "data_file = \"https://raw.githubusercontent.com/TrinadhM-dev/GDPProject-02/main/data.json\"\n",
    "intents = pd.read_json(data_file)"
   ]
  },
  {
   "cell_type": "code",
   "execution_count": 21,
   "metadata": {},
   "outputs": [
    {
     "data": {
      "text/html": [
       "<div>\n",
       "<style scoped>\n",
       "    .dataframe tbody tr th:only-of-type {\n",
       "        vertical-align: middle;\n",
       "    }\n",
       "\n",
       "    .dataframe tbody tr th {\n",
       "        vertical-align: top;\n",
       "    }\n",
       "\n",
       "    .dataframe thead th {\n",
       "        text-align: right;\n",
       "    }\n",
       "</style>\n",
       "<table border=\"1\" class=\"dataframe\">\n",
       "  <thead>\n",
       "    <tr style=\"text-align: right;\">\n",
       "      <th></th>\n",
       "      <th>intents</th>\n",
       "    </tr>\n",
       "  </thead>\n",
       "  <tbody>\n",
       "    <tr>\n",
       "      <th>0</th>\n",
       "      <td>{'tag': 'Welcome', 'patterns': ['just going to...</td>\n",
       "    </tr>\n",
       "    <tr>\n",
       "      <th>1</th>\n",
       "      <td>{'tag': 'FallBack', 'patterns': [], 'responses...</td>\n",
       "    </tr>\n",
       "    <tr>\n",
       "      <th>2</th>\n",
       "      <td>{'tag': 'CourseOverview', 'patterns': ['Tell m...</td>\n",
       "    </tr>\n",
       "    <tr>\n",
       "      <th>3</th>\n",
       "      <td>{'tag': 'ACSProfessors', 'patterns': ['Provide...</td>\n",
       "    </tr>\n",
       "    <tr>\n",
       "      <th>4</th>\n",
       "      <td>{'tag': 'CreditHours', 'patterns': ['How many ...</td>\n",
       "    </tr>\n",
       "    <tr>\n",
       "      <th>5</th>\n",
       "      <td>{'tag': 'TuitionFee', 'patterns': ['Is there a...</td>\n",
       "    </tr>\n",
       "    <tr>\n",
       "      <th>6</th>\n",
       "      <td>{'tag': 'Intakes', 'patterns': ['How many inta...</td>\n",
       "    </tr>\n",
       "    <tr>\n",
       "      <th>7</th>\n",
       "      <td>{'tag': 'ACSCourses', 'patterns': ['What are t...</td>\n",
       "    </tr>\n",
       "    <tr>\n",
       "      <th>8</th>\n",
       "      <td>{'tag': 'Electives', 'patterns': ['Are there a...</td>\n",
       "    </tr>\n",
       "    <tr>\n",
       "      <th>9</th>\n",
       "      <td>{'tag': 'Prerequisites', 'patterns': ['Are the...</td>\n",
       "    </tr>\n",
       "    <tr>\n",
       "      <th>10</th>\n",
       "      <td>{'tag': 'RequiredGPA', 'patterns': ['What is t...</td>\n",
       "    </tr>\n",
       "    <tr>\n",
       "      <th>11</th>\n",
       "      <td>{'tag': 'DeadlinesForSpringIntake', 'patterns'...</td>\n",
       "    </tr>\n",
       "  </tbody>\n",
       "</table>\n",
       "</div>"
      ],
      "text/plain": [
       "                                              intents\n",
       "0   {'tag': 'Welcome', 'patterns': ['just going to...\n",
       "1   {'tag': 'FallBack', 'patterns': [], 'responses...\n",
       "2   {'tag': 'CourseOverview', 'patterns': ['Tell m...\n",
       "3   {'tag': 'ACSProfessors', 'patterns': ['Provide...\n",
       "4   {'tag': 'CreditHours', 'patterns': ['How many ...\n",
       "5   {'tag': 'TuitionFee', 'patterns': ['Is there a...\n",
       "6   {'tag': 'Intakes', 'patterns': ['How many inta...\n",
       "7   {'tag': 'ACSCourses', 'patterns': ['What are t...\n",
       "8   {'tag': 'Electives', 'patterns': ['Are there a...\n",
       "9   {'tag': 'Prerequisites', 'patterns': ['Are the...\n",
       "10  {'tag': 'RequiredGPA', 'patterns': ['What is t...\n",
       "11  {'tag': 'DeadlinesForSpringIntake', 'patterns'..."
      ]
     },
     "execution_count": 21,
     "metadata": {},
     "output_type": "execute_result"
    }
   ],
   "source": [
    "intents"
   ]
  },
  {
   "cell_type": "markdown",
   "metadata": {},
   "source": [
    "<h4>Data Preprocessing</h4>\n"
   ]
  },
  {
   "cell_type": "code",
   "execution_count": null,
   "metadata": {},
   "outputs": [],
   "source": [
    "# preprocessing the json data\n",
    "# tokenization\n",
    "nltk.download('punkt')\n",
    "nltk.download('wordnet')"
   ]
  },
  {
   "cell_type": "markdown",
   "metadata": {},
   "source": [
    "<h4>Tokenization</h4>"
   ]
  },
  {
   "cell_type": "code",
   "execution_count": null,
   "metadata": {},
   "outputs": [],
   "source": [
    "for intent in intents['intents']:\n",
    "    for pattern in intent['patterns']:\n",
    "\n",
    " \n",
    "\n",
    "        #tokenize each word\n",
    "        w = nltk.word_tokenize(pattern)\n",
    "        words.extend(w)\n",
    "        #add documents in the corpus\n",
    "        documents.append((w, intent['tag']))\n",
    "\n",
    " \n",
    "\n",
    "        # add to our classes list\n",
    "        if intent['tag'] not in classes:\n",
    "            classes.append(intent['tag'])"
   ]
  },
  {
   "cell_type": "markdown",
   "metadata": {},
   "source": [
    "<h4>Lemmatization</h4>"
   ]
  },
  {
   "cell_type": "code",
   "execution_count": null,
   "metadata": {},
   "outputs": [],
   "source": [
    "\n",
    "\n",
    "# lemmatize, lower each word and remove duplicates\n",
    "\n",
    " \n",
    "\n",
    "words = [lemmatizer.lemmatize(w.lower()) for w in words if w not in ignore_words]\n",
    "\n",
    "words = sorted(list(set(words)))\n",
    "\n",
    " \n",
    "\n",
    "# sort classes\n",
    "\n",
    "classes = sorted(list(set(classes)))\n",
    "\n",
    " \n",
    "\n",
    "# documents = combination between patterns and intents\n",
    "\n",
    "print (len(documents), \"documents\")\n",
    "\n",
    " \n",
    "\n",
    "# classes = intents\n",
    "\n",
    "print (len(classes), \"classes\", classes)\n",
    "\n",
    " \n",
    "\n",
    "# words = all words, vocabulary\n",
    "\n",
    "print (len(words), \"unique lemmatized words\", words)\n",
    "\n",
    " \n",
    "\n",
    "# creating a pickle file to store the Python objects which we will use while predicting\n",
    "\n",
    "pickle.dump(words,open('words.pkl','wb'))\n",
    "\n",
    "pickle.dump(classes,open('classes.pkl','wb'))"
   ]
  },
  {
   "cell_type": "markdown",
   "metadata": {},
   "source": [
    "<h4>training Data</h4>"
   ]
  },
  {
   "cell_type": "code",
   "execution_count": null,
   "metadata": {},
   "outputs": [],
   "source": [
    "\n",
    "\n",
    "# create our training data\n",
    "\n",
    "training = []\n",
    "\n",
    " \n",
    "\n",
    "# create an empty array for our output\n",
    "\n",
    "output_empty = [0] * len(classes)\n",
    "\n",
    " \n",
    "\n",
    "# training set, bag of words for each sentence\n",
    "\n",
    "for doc in documents:\n",
    "\n",
    "    # initialize our bag of words\n",
    "\n",
    "    bag = []\n",
    "\n",
    "    # list of tokenized words for the pattern\n",
    "\n",
    "    pattern_words = doc[0]\n",
    "\n",
    "   \n",
    "\n",
    "    # lemmatize each word - create base word, in attempt to represent related words\n",
    "\n",
    "    pattern_words = [lemmatizer.lemmatize(word.lower()) for word in pattern_words]\n",
    "\n",
    "   \n",
    "\n",
    "    # create our bag of words array with 1, if word match found in current pattern\n",
    "\n",
    "    for w in words:\n",
    "\n",
    "        bag.append(1) if w in pattern_words else bag.append(0)\n",
    "\n",
    "    # output is a '0' for each tag and '1' for current tag (for each pattern)\n",
    "\n",
    "    output_row = list(output_empty)\n",
    "\n",
    "    output_row[classes.index(doc[1])] = 1\n",
    "\n",
    "    training.append([bag, output_row])\n",
    "\n",
    " \n",
    "\n",
    "# shuffle features and converting it into numpy arrays\n",
    "\n",
    "random.shuffle(training)\n",
    "\n",
    "training = np.array(training,dtype=list)\n",
    "\n",
    " \n",
    "\n",
    "# create train and test lists\n",
    "\n",
    "train_x = list(training[:,0])\n",
    "\n",
    "train_y = list(training[:,1])\n",
    "\n",
    " \n",
    "\n",
    "print(\"Training data created\")"
   ]
  },
  {
   "cell_type": "code",
   "execution_count": null,
   "metadata": {},
   "outputs": [],
   "source": [
    "print(type(training))"
   ]
  },
  {
   "attachments": {},
   "cell_type": "markdown",
   "metadata": {},
   "source": [
    "<h4>Creating NN Model</h4>"
   ]
  },
  {
   "cell_type": "code",
   "execution_count": null,
   "metadata": {},
   "outputs": [],
   "source": [
    "# Import the necessary libraries\n",
    "import tensorflow as tf\n",
    "from tensorflow.keras.models import Sequential\n",
    "from tensorflow.keras.layers import Dense, Activation, Dropout\n",
    "\n",
    "# Create NN model to predict the responses\n",
    "model = Sequential()\n",
    "model.add(Dense(128, input_shape=(len(train_x[0]),), activation='relu'))\n",
    "model.add(Dropout(0.5))\n",
    "model.add(Dense(64, activation='relu'))\n",
    "model.add(Dropout(0.5))\n",
    "model.add(Dense(len(train_y[0]), activation='softmax'))\n",
    "\n",
    "# Compile model using legacy SGD optimizer\n",
    "sgd = tf.keras.optimizers.legacy.SGD(learning_rate=0.01, momentum=0.9, nesterov=True)\n",
    "model.compile(loss='categorical_crossentropy', optimizer=sgd, metrics=['accuracy'])\n",
    "\n",
    "# Fitting and saving the model\n",
    "hist = model.fit(np.array(train_x), np.array(train_y), epochs=200, batch_size=5, verbose=1)\n",
    "model.save('chatbot.h5', hist)  # Save the model for future use\n",
    "\n",
    "print(\"\\n\")\n",
    "print(\"*\" * 50)\n",
    "print(\"\\nModel Created Successfully!\")"
   ]
  },
  {
   "cell_type": "code",
   "execution_count": null,
   "metadata": {},
   "outputs": [],
   "source": [
    "# load the saved model file\n",
    "model = load_model('chatbot.h5')\n",
    "intents = json.loads(open(r'C:\\Users\\s559891\\OneDrive - nwmissouri.edu\\Documents\\Z_GDP\\jupyter\\data.json').read())\n",
    "words = pickle.load(open('words.pkl','rb'))\n",
    "classes = pickle.load(open('classes.pkl','rb'))"
   ]
  },
  {
   "cell_type": "code",
   "execution_count": null,
   "metadata": {},
   "outputs": [],
   "source": [
    "\n",
    "def clean_up_sentence(sentence):\n",
    "\n",
    "    # tokenize the pattern - split words into array\n",
    "\n",
    "    sentence_words = nltk.word_tokenize(sentence)\n",
    "    # stem each word - create short form for word\n",
    "\n",
    "    sentence_words = [lemmatizer.lemmatize(word.lower()) for word in sentence_words]\n",
    "\n",
    "    return sentence_words\n"
   ]
  },
  {
   "cell_type": "code",
   "execution_count": null,
   "metadata": {},
   "outputs": [],
   "source": [
    "# return bag of words array: 0 or 1 for each word in the bag that exists in the sentence\n",
    "\n",
    "def bow(sentence, words, show_details=True):\n",
    "\n",
    "    # tokenize the pattern\n",
    "    sentence_words = clean_up_sentence(sentence)\n",
    "    # bag of words - matrix of N words, vocabulary matrix\n",
    "    bag = [0]*len(words) \n",
    "    for s in sentence_words:\n",
    "        for i,w in enumerate(words):\n",
    "            if w == s: \n",
    "                # assign 1 if current word is in the vocabulary position\n",
    "                bag[i] = 1\n",
    "                if show_details:\n",
    "                    print (\"found in bag: %s\" % w)\n",
    "    return(np.array(bag))"
   ]
  },
  {
   "cell_type": "code",
   "execution_count": null,
   "metadata": {},
   "outputs": [],
   "source": [
    "\n",
    "def predict_class(sentence, model):\n",
    "    # filter out predictions below a threshold\n",
    "    p = bow(sentence, words,show_details=False)\n",
    "    res = model.predict(np.array([p]))[0]\n",
    "    error = 0.25\n",
    "    results = [[i,r] for i,r in enumerate(res) if r>error]\n",
    "    # sort by strength of probability\n",
    "    results.sort(key=lambda x: x[1], reverse=True)\n",
    "    return_list = []\n",
    "    for r in results:\n",
    "        return_list.append({\"intent\": classes[r[0]], \"probability\": str(r[1])})\n",
    "    return return_list"
   ]
  },
  {
   "cell_type": "code",
   "execution_count": null,
   "metadata": {},
   "outputs": [],
   "source": [
    " \n",
    "\n",
    "# function to get the response from the model\n",
    "\n",
    " \n",
    "\n",
    "def getResponse(ints, intents_json):\n",
    "\n",
    "    tag = ints[0]['intent']\n",
    "\n",
    "    list_of_intents = intents_json['intents']\n",
    "\n",
    "    for i in list_of_intents:\n",
    "\n",
    "        if(i['tag']== tag):\n",
    "\n",
    "            result = random.choice(i['responses'])\n",
    "\n",
    "            break\n",
    "\n",
    "    return result"
   ]
  },
  {
   "cell_type": "code",
   "execution_count": null,
   "metadata": {},
   "outputs": [],
   "source": [
    "# function to predict the class and get the response\n",
    "\n",
    "def chatbot_response(text):\n",
    "    ints = predict_class(text, model)\n",
    "    res = getResponse(ints, intents)\n",
    "    return res"
   ]
  },
  {
   "cell_type": "code",
   "execution_count": null,
   "metadata": {},
   "outputs": [],
   "source": [
    "# function to start the chat bot which will continue till the user type 'end'\n",
    "\n",
    " \n",
    "\n",
    "def start_chat():\n",
    "    print(\"Bot: This is MS ACS  Personal Assistant.\\n\\n\")\n",
    "    while True:\n",
    "        inp = str(input()).lower()\n",
    "        if inp.lower()==\"end\":\n",
    "            break\n",
    "        if inp.lower()== '' or inp.lower()== '*':\n",
    "            print('Please re-phrase your query!')\n",
    "            print(\"-\"*50)\n",
    "        else:\n",
    "            print(f\"Bot: {chatbot_response(inp)}\"+'\\n')\n",
    "            print(\"-\"*50) "
   ]
  },
  {
   "cell_type": "markdown",
   "metadata": {},
   "source": [
    "<h4>Chatting with BOT using the command Line option</h4>"
   ]
  },
  {
   "cell_type": "code",
   "execution_count": 31,
   "metadata": {},
   "outputs": [],
   "source": [
    "start_chat()"
   ]
  },
  {
   "cell_type": "markdown",
   "metadata": {},
   "source": [
    "<h4>Chatting with Bot using TKinter App</h4>\n"
   ]
  },
  {
   "cell_type": "markdown",
   "metadata": {},
   "source": [
    "<h5>For running the Tkinter GUI you have to download this notebook in ipynb format and run using jupyter notebook in your local machine/pc because in google colab, you cannot run Tkinter apps.</h5>"
   ]
  },
  {
   "cell_type": "code",
   "execution_count": null,
   "metadata": {},
   "outputs": [],
   "source": [
    "import random\n",
    "import tkinter as tk\n",
    "from tkinter import *"
   ]
  },
  {
   "cell_type": "code",
   "execution_count": null,
   "metadata": {},
   "outputs": [],
   "source": [
    "root = tk.Tk()\n",
    "filename = \"Chat Bot\"\n",
    "root.title(f\"Chat Bot\")\n",
    "root.geometry('500x400')\n",
    "root.resizable(False, False)\n",
    "message = tk.StringVar()"
   ]
  },
  {
   "cell_type": "code",
   "execution_count": null,
   "metadata": {},
   "outputs": [],
   "source": [
    "chat_win=Frame(root,bd=1,bg='white',width=50,height=8)\n",
    "chat_win.place(x=6,y=6,height=300,width=488)\n",
    "\n",
    " \n",
    "\n",
    "textcon=tk.Text(chat_win,bd=1,bg='white',width=50,height=8)\n",
    "textcon.pack(fill=\"both\",expand=True)"
   ]
  },
  {
   "cell_type": "code",
   "execution_count": null,
   "metadata": {},
   "outputs": [],
   "source": [
    "mes_win=Entry(root,width=30,xscrollcommand=True,textvariable=message)\n",
    "mes_win.place(x=6,y=310,height=60,width=380)\n",
    "mes_win.focus()"
   ]
  },
  {
   "cell_type": "code",
   "execution_count": null,
   "metadata": {},
   "outputs": [],
   "source": [
    "textcon.config(fg='black')\n",
    "textcon.tag_config('usr',foreground='black')\n",
    "textcon.insert(END,\"Bot: This is ACS Chatbot, Your Personal Assistant.\\n\\n\")\n",
    "mssg=mes_win.get()"
   ]
  },
  {
   "cell_type": "code",
   "execution_count": null,
   "metadata": {},
   "outputs": [],
   "source": [
    "exit_list = ['exit','break','quit','see you later','chat with you later','end the chat','bye','ok bye','byie']"
   ]
  },
  {
   "cell_type": "code",
   "execution_count": null,
   "metadata": {},
   "outputs": [],
   "source": [
    "def greet_res(text):\n",
    "    text=text.lower()\n",
    "    bot_greet=['hi','hello','hola','hey','howdy','hyy']\n",
    "    usr_greet=['hi','hey','hello','hola','greetings','wassup','whats up']\n",
    "    for word in text.split():\n",
    "        if word in usr_greet:\n",
    "            return random.choice(bot_greet)"
   ]
  },
  {
   "cell_type": "code",
   "execution_count": null,
   "metadata": {},
   "outputs": [],
   "source": [
    "def send_msz(event=None):\n",
    "    usr_input = message.get()\n",
    "    usr_input = usr_input.lower()\n",
    "    textcon.insert(END, f'You: {usr_input}'+'\\n','usr')\n",
    "    if usr_input in exit_list:\n",
    "        textcon.config(fg='black')\n",
    "        textcon.insert(END,\"Bot: Ok bye! Chat with you later\\n\")\n",
    "        return root.destroy()\n",
    "    else:\n",
    "        textcon.config(fg='black')\n",
    "        if greet_res(usr_input) != None:\n",
    "            lab=f\"Bot: {greet_res(usr_input)}\"+'\\n'\n",
    "            textcon.insert(END,lab)\n",
    "            mes_win.delete(0,END)\n",
    "        else:\n",
    "            lab = f\"Bot: {chatbot_response(usr_input)}\"+'\\n'\n",
    "            textcon.insert(END,lab)\n",
    "            mes_win.delete(0,END)"
   ]
  },
  {
   "cell_type": "code",
   "execution_count": null,
   "metadata": {},
   "outputs": [],
   "source": [
    "button_send=Button(root,text='Send',bg='dark green',activebackground='grey',command=send_msz,width=12,height=5,font=('Arial'))\n",
    "button_send.place(x=376,y=310,height=60,width=110)\n",
    "root.bind('<Return>', send_msz,button_send)\n",
    "root.mainloop()"
   ]
  }
 ],
 "metadata": {
  "kernelspec": {
   "display_name": "Python 3",
   "language": "python",
   "name": "python3"
  },
  "language_info": {
   "codemirror_mode": {
    "name": "ipython",
    "version": 3
   },
   "file_extension": ".py",
   "mimetype": "text/x-python",
   "name": "python",
   "nbconvert_exporter": "python",
   "pygments_lexer": "ipython3",
   "version": "3.11.0"
  },
  "orig_nbformat": 4
 },
 "nbformat": 4,
 "nbformat_minor": 2
}
