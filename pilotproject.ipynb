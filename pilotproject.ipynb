{
 "cells": [
  {
   "cell_type": "code",
   "execution_count": 1,
   "metadata": {},
   "outputs": [],
   "source": [
    "import warnings"
   ]
  },
  {
   "cell_type": "code",
   "execution_count": 2,
   "metadata": {},
   "outputs": [],
   "source": [
    "warnings.filterwarnings(\"ignore\")\n",
    "import nltk\n",
    "from nltk.stem import WordNetLemmatizer\n",
    "import json\n",
    "import pickle"
   ]
  },
  {
   "cell_type": "code",
   "execution_count": 3,
   "metadata": {},
   "outputs": [],
   "source": [
    "import numpy as np\n",
    "from tensorflow.keras.models import Sequential\n",
    "from tensorflow.keras.layers import Dense, Activation, Dropout\n",
    "from tensorflow.keras.optimizers import SGD\n",
    "import random\n",
    "from keras.models import load_model"
   ]
  },
  {
   "cell_type": "code",
   "execution_count": 4,
   "metadata": {},
   "outputs": [],
   "source": [
    "import pandas as pd"
   ]
  },
  {
   "cell_type": "code",
   "execution_count": 5,
   "metadata": {},
   "outputs": [],
   "source": [
    "# create an object of WordNetLemmatizer\n",
    "lemmatizer = WordNetLemmatizer()"
   ]
  },
  {
   "cell_type": "code",
   "execution_count": 6,
   "metadata": {},
   "outputs": [],
   "source": [
    "# importing the GL Bot corpus file for pre-processing\n",
    "\n",
    "words=[]\n",
    "classes = []\n",
    "documents = []\n",
    "ignore_words = ['?', '!']"
   ]
  },
  {
   "cell_type": "code",
   "execution_count": 9,
   "metadata": {},
   "outputs": [],
   "source": [
    "data_file = open(\"data.json\").read()\n",
    "intents = json.loads(data_file)"
   ]
  },
  {
   "cell_type": "code",
   "execution_count": 10,
   "metadata": {},
   "outputs": [
    {
     "data": {
      "text/plain": [
       "{'intents': [{'tag': 'Welcome',\n",
       "   'patterns': ['just going to say hi',\n",
       "    'heya',\n",
       "    'hello hi',\n",
       "    'howdy',\n",
       "    'hey there',\n",
       "    'hi there',\n",
       "    'greetings',\n",
       "    'hey',\n",
       "    'long time no see',\n",
       "    'hello',\n",
       "    \"lovely day isn't it\",\n",
       "    'I greet you',\n",
       "    'hello again',\n",
       "    'hi',\n",
       "    'hello there',\n",
       "    'A good day',\n",
       "    'hy',\n",
       "    'hello',\n",
       "    'hola',\n",
       "    'how are you'],\n",
       "   'responses': ['Hi! How are you doing?',\n",
       "    'Hello! How can I help you?',\n",
       "    'Good day! What can I do for you today?',\n",
       "    'Greetings! How can I assist?',\n",
       "    'Hello and welcome!',\n",
       "    'Hello, and thank you for reaching out!']},\n",
       "  {'tag': 'CourseOverview',\n",
       "   'patterns': ['Tell me about the Computer Science program.',\n",
       "    'Please Tell me about the course overview.',\n",
       "    \"What's the general course overview?\",\n",
       "    'Can you provide a summary of the course content?',\n",
       "    'please provide me course overview.',\n",
       "    'Tell me about the course overview',\n",
       "    'Tell me about the course',\n",
       "    'course overview',\n",
       "    'Please provide course overview',\n",
       "    'credit hours required?',\n",
       "    'tell me about the course overview',\n",
       "    'course overview',\n",
       "    'tell the course curriculum'],\n",
       "   'responses': [\"Northwest Missouri State University's Master of Science in Applied Computer Science is a 16-month program that offers a hands-on, professional education in today's high demand areas.\",\n",
       "    'A Master of Science in Applied Computer Science (MS ACS) program at Northwest Missouri State University likely includes core courses in computer science, advanced programming, and database management. Students can choose a specialized track, such as artificial intelligence, cybersecurity, or data science, focusing on relevant topics and programming languages.']},\n",
       "  {'tag': 'ACSProfessors',\n",
       "   'patterns': ['Provide the names of some instructors that are in ACS Course.',\n",
       "    'Who are the lecturers present in MS ACS?',\n",
       "    'Who are the professors for MS ACS Course?',\n",
       "    'Tell me the names of Professors, Who teaches in MS ACS?',\n",
       "    'Who are the lecturers present in MS ACS?',\n",
       "    'Tell me the names of Professors, Who teaches in MS ACS?',\n",
       "    'who are lecturers present in MS ACS?',\n",
       "    'provide the names of some instructors that are in ACS Course.',\n",
       "    'Who are lectures that teach in ACS Program?',\n",
       "    'who are the professors',\n",
       "    'Who are lecturers that teach in ACS Program?',\n",
       "    'who teaches in MS ACS Course',\n",
       "    'provide the names of some instructors that are in ACS Course',\n",
       "    'who are instructors in ACS Course?',\n",
       "    'professors',\n",
       "    'instructors in acs course'],\n",
       "   'responses': ['Dr. Ajay Bandi, Dr. Mark Chai, Dr. Ratan Lal, Dr. Chetti Prasad, Chandramouli',\n",
       "    'Dr. Ajay Bandi, Dr. Mark Chai, Dr. Ratan Lal, Dr. Chetti Prasad, Chandramouli',\n",
       "    'Dr. Ajay Bandi, Dr. Mark Chai, Dr. Ratan Lal, Dr. Chetti Prasad, Chandramouli']},\n",
       "  {'tag': 'CreditHours',\n",
       "   'patterns': ['How many Credit Hours are needed to complete MS in ACS?',\n",
       "    'How many Credit hours are required for  completion of the M.S. in Applied Computer Science.?',\n",
       "    'credit hours required?',\n",
       "    'credit hours needed',\n",
       "    'credit hours',\n",
       "    'how many credit hours required?',\n",
       "    'how many credit hours',\n",
       "    'credit hours needed?',\n",
       "    'credit hours required',\n",
       "    'what are credit hours'],\n",
       "   'responses': ['Thirty credit hours of graduate credits are required for completion of the M.S. in Applied Computer Science.',\n",
       "    '30 Credit Hours are needed to graduate from MS in ACS program.',\n",
       "    '30 Credit Hours']},\n",
       "  {'tag': 'TuitionFee',\n",
       "   'patterns': [\"Is there a payment schedule or installment plan for managing the graduate program's expenses?\",\n",
       "    'What resources or guidance are available to help graduate students with financial planning and budgeting?',\n",
       "    'Are there any additional fees or expenses beyond tuition that I should consider when calculating the cost?',\n",
       "    'Do the tuition fees differ for in-state and out-of-state graduate students?',\n",
       "    'Can you break down the components that contribute to the overall graduate cost?',\n",
       "    \"Are there any scholarships or financial aid options available to help offset the graduate program's cost?\",\n",
       "    'What is the expected financial commitment for pursuing a graduate degree?',\n",
       "    'Could you provide an estimate of the total expenses for graduate studies?',\n",
       "    'What is the Estimated Graduate Cost?'],\n",
       "   'responses': ['$16,802.20',\n",
       "    'Total Graduate Cost for ACS is $16,802.20',\n",
       "    'The complete cost for the ACS graduate program amounts to $16,802.20.',\n",
       "    'The ACS graduate program entails a total cost of $16,802.20',\n",
       "    'The overall expense for the ACS graduate program is $16,802.20.',\n",
       "    'For the ACS graduate program, the total financial commitment is $16,802.20.',\n",
       "    'Students pursuing the ACS program should budget for a sum of $16,802.20.']},\n",
       "  {'tag': 'Intakes',\n",
       "   'patterns': ['How many intakes are there in MS ACS Program?',\n",
       "    'How many intakes',\n",
       "    'no of intakes',\n",
       "    'number of intakes',\n",
       "    'Number of intakes in a year?',\n",
       "    'How many intakes are there in MS ACS Course?'],\n",
       "   'responses': ['There are Three intakes for MS ACS i.e., Spring, Summer, and Fall.',\n",
       "    'You can apply for any of the three semesters in a year. (Spring, Summer, Fall).',\n",
       "    'Students have the option to start their ACS program in spring, summer, or fall, offering flexibility in enrollment.',\n",
       "    'Intakes for the ACS program are available in spring, summer, and fall, allowing students to plan their enrollment accordingly.',\n",
       "    'New students are admitted to the ACS program in the spring, summer, and fall intakes, providing flexibility in scheduling.',\n",
       "    'In the ACS program, you can commence your studies in the spring, summer, or fall intake, depending on your preference.']}]}"
      ]
     },
     "execution_count": 10,
     "metadata": {},
     "output_type": "execute_result"
    }
   ],
   "source": [
    "intents"
   ]
  }
 ],
 "metadata": {
  "kernelspec": {
   "display_name": "Python 3",
   "language": "python",
   "name": "python3"
  },
  "language_info": {
   "codemirror_mode": {
    "name": "ipython",
    "version": 3
   },
   "file_extension": ".py",
   "mimetype": "text/x-python",
   "name": "python",
   "nbconvert_exporter": "python",
   "pygments_lexer": "ipython3",
   "version": "3.11.0"
  },
  "orig_nbformat": 4
 },
 "nbformat": 4,
 "nbformat_minor": 2
}
