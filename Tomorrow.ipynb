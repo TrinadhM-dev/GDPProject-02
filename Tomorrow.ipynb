{
 "cells": [
  {
   "cell_type": "code",
   "execution_count": 3,
   "id": "906f61f6-fd98-4f10-9b24-170ae585166c",
   "metadata": {},
   "outputs": [],
   "source": [
    "import warnings"
   ]
  },
  {
   "cell_type": "code",
   "execution_count": 7,
   "id": "e5ebe80f-8860-476b-b203-a29b599b8ff3",
   "metadata": {},
   "outputs": [
    {
     "ename": "ModuleNotFoundError",
     "evalue": "No module named 'nltk'",
     "output_type": "error",
     "traceback": [
      "\u001b[1;31m---------------------------------------------------------------------------\u001b[0m",
      "\u001b[1;31mModuleNotFoundError\u001b[0m                       Traceback (most recent call last)",
      "\u001b[1;32mc:\\Users\\S560998\\Documents\\webapps-repos\\GDPProject-02\\Tomorrow.ipynb Cell 2\u001b[0m line \u001b[0;36m4\n\u001b[0;32m      <a href='vscode-notebook-cell:/c%3A/Users/S560998/Documents/webapps-repos/GDPProject-02/Tomorrow.ipynb#W1sZmlsZQ%3D%3D?line=0'>1</a>\u001b[0m warnings\u001b[39m.\u001b[39mfilterwarnings(\u001b[39m\"\u001b[39m\u001b[39mignore\u001b[39m\u001b[39m\"\u001b[39m)\n\u001b[0;32m      <a href='vscode-notebook-cell:/c%3A/Users/S560998/Documents/webapps-repos/GDPProject-02/Tomorrow.ipynb#W1sZmlsZQ%3D%3D?line=2'>3</a>\u001b[0m \u001b[39m#NLTK (Natural Language Toolkit) is an NLP (Natural Language Processing) library for Python. \u001b[39;00m\n\u001b[1;32m----> <a href='vscode-notebook-cell:/c%3A/Users/S560998/Documents/webapps-repos/GDPProject-02/Tomorrow.ipynb#W1sZmlsZQ%3D%3D?line=3'>4</a>\u001b[0m \u001b[39mimport\u001b[39;00m \u001b[39mnltk\u001b[39;00m\n\u001b[0;32m      <a href='vscode-notebook-cell:/c%3A/Users/S560998/Documents/webapps-repos/GDPProject-02/Tomorrow.ipynb#W1sZmlsZQ%3D%3D?line=4'>5</a>\u001b[0m \u001b[39mfrom\u001b[39;00m \u001b[39mnltk\u001b[39;00m\u001b[39m.\u001b[39;00m\u001b[39mstem\u001b[39;00m \u001b[39mimport\u001b[39;00m WordNetLemmatizer\n\u001b[0;32m      <a href='vscode-notebook-cell:/c%3A/Users/S560998/Documents/webapps-repos/GDPProject-02/Tomorrow.ipynb#W1sZmlsZQ%3D%3D?line=5'>6</a>\u001b[0m \u001b[39mimport\u001b[39;00m \u001b[39mjson\u001b[39;00m\n",
      "\u001b[1;31mModuleNotFoundError\u001b[0m: No module named 'nltk'"
     ]
    }
   ],
   "source": [
    "warnings.filterwarnings(\"ignore\")\n",
    "\n",
    "#NLTK (Natural Language Toolkit) is an NLP (Natural Language Processing) library for Python. \n",
    "import nltk\n",
    "from nltk.stem import WordNetLemmatizer\n",
    "import json\n",
    "import pickle"
   ]
  },
  {
   "cell_type": "code",
   "execution_count": 6,
   "id": "3cd196aa-9f09-4adb-9517-d9c7189da99e",
   "metadata": {},
   "outputs": [
    {
     "ename": "ModuleNotFoundError",
     "evalue": "No module named 'numpy'",
     "output_type": "error",
     "traceback": [
      "\u001b[1;31m---------------------------------------------------------------------------\u001b[0m",
      "\u001b[1;31mModuleNotFoundError\u001b[0m                       Traceback (most recent call last)",
      "\u001b[1;32mc:\\Users\\S560998\\Documents\\webapps-repos\\GDPProject-02\\Tomorrow.ipynb Cell 3\u001b[0m line \u001b[0;36m1\n\u001b[1;32m----> <a href='vscode-notebook-cell:/c%3A/Users/S560998/Documents/webapps-repos/GDPProject-02/Tomorrow.ipynb#W2sZmlsZQ%3D%3D?line=0'>1</a>\u001b[0m \u001b[39mimport\u001b[39;00m \u001b[39mnumpy\u001b[39;00m \u001b[39mas\u001b[39;00m \u001b[39mnp\u001b[39;00m\n\u001b[0;32m      <a href='vscode-notebook-cell:/c%3A/Users/S560998/Documents/webapps-repos/GDPProject-02/Tomorrow.ipynb#W2sZmlsZQ%3D%3D?line=1'>2</a>\u001b[0m \u001b[39mfrom\u001b[39;00m \u001b[39mtensorflow\u001b[39;00m\u001b[39m.\u001b[39;00m\u001b[39mkeras\u001b[39;00m\u001b[39m.\u001b[39;00m\u001b[39mmodels\u001b[39;00m \u001b[39mimport\u001b[39;00m Sequential\n\u001b[0;32m      <a href='vscode-notebook-cell:/c%3A/Users/S560998/Documents/webapps-repos/GDPProject-02/Tomorrow.ipynb#W2sZmlsZQ%3D%3D?line=2'>3</a>\u001b[0m \u001b[39mfrom\u001b[39;00m \u001b[39mtensorflow\u001b[39;00m\u001b[39m.\u001b[39;00m\u001b[39mkeras\u001b[39;00m\u001b[39m.\u001b[39;00m\u001b[39mlayers\u001b[39;00m \u001b[39mimport\u001b[39;00m Dense, Activation, Dropout\n",
      "\u001b[1;31mModuleNotFoundError\u001b[0m: No module named 'numpy'"
     ]
    }
   ],
   "source": [
    "import numpy as np\n",
    "from tensorflow.keras.models import Sequential\n",
    "from tensorflow.keras.layers import Dense, Activation, Dropout\n",
    "from tensorflow.keras.optimizers import SGD\n",
    "from tensorflow.keras.optimizers.legacy import SGD\n",
    "import random\n",
    "from keras.models import load_model\n",
    "import pandas as pd"
   ]
  },
  {
   "cell_type": "code",
   "execution_count": null,
   "id": "15aaef17-dc5b-4ca4-9543-782b4481cb1c",
   "metadata": {},
   "outputs": [
    {
     "ename": "",
     "evalue": "",
     "output_type": "error",
     "traceback": [
      "\u001b[1;31mRunning cells with 'c:\\Python311\\python.exe' requires the ipykernel package.\n",
      "\u001b[1;31mRun the following command to install 'ipykernel' into the Python environment. \n",
      "\u001b[1;31mCommand: 'c:/Python311/python.exe -m pip install ipykernel -U --user --force-reinstall'"
     ]
    }
   ],
   "source": [
    "# create an object of WordNetLemmatizer\n",
    "lemmatizer = WordNetLemmatizer()"
   ]
  },
  {
   "cell_type": "code",
   "execution_count": null,
   "id": "f0a8fb8c-c59f-4f8a-ba5d-adfc5bde5016",
   "metadata": {},
   "outputs": [
    {
     "ename": "",
     "evalue": "",
     "output_type": "error",
     "traceback": [
      "\u001b[1;31mRunning cells with 'c:\\Python311\\python.exe' requires the ipykernel package.\n",
      "\u001b[1;31mRun the following command to install 'ipykernel' into the Python environment. \n",
      "\u001b[1;31mCommand: 'c:/Python311/python.exe -m pip install ipykernel -U --user --force-reinstall'"
     ]
    }
   ],
   "source": [
    "# importing the GL Bot corpus file for pre-processing\n",
    "\n",
    "#stores all the words found in corpus.\n",
    "words=[]\n",
    "\n",
    "#stores all the different classes/intents for  chatbot.\n",
    "classes = []\n",
    "\n",
    "#stores tuples containing tokenized words and their associated intent or class.\n",
    "documents = []\n",
    "\n",
    "ignore_words = ['?', '!']"
   ]
  },
  {
   "cell_type": "code",
   "execution_count": null,
   "id": "f0f8f7e4-c9b4-4860-864a-b58ecf2f186f",
   "metadata": {},
   "outputs": [
    {
     "ename": "",
     "evalue": "",
     "output_type": "error",
     "traceback": [
      "\u001b[1;31mRunning cells with 'c:\\Python311\\python.exe' requires the ipykernel package.\n",
      "\u001b[1;31mRun the following command to install 'ipykernel' into the Python environment. \n",
      "\u001b[1;31mCommand: 'c:/Python311/python.exe -m pip install ipykernel -U --user --force-reinstall'"
     ]
    }
   ],
   "source": [
    "#data_file = open(r'C:\\Users\\s559891\\OneDrive - nwmissouri.edu\\Documents\\Z_GDP\\jupyter\\data.json').read()\n",
    "#intents = json.loads(data_file)"
   ]
  },
  {
   "cell_type": "code",
   "execution_count": null,
   "id": "6f96601d-2984-464e-8e71-8e8aa6cccd75",
   "metadata": {},
   "outputs": [
    {
     "ename": "",
     "evalue": "",
     "output_type": "error",
     "traceback": [
      "\u001b[1;31mRunning cells with 'c:\\Python311\\python.exe' requires the ipykernel package.\n",
      "\u001b[1;31mRun the following command to install 'ipykernel' into the Python environment. \n",
      "\u001b[1;31mCommand: 'c:/Python311/python.exe -m pip install ipykernel -U --user --force-reinstall'"
     ]
    }
   ],
   "source": [
    "data_file = \"https://raw.githubusercontent.com/TrinadhM-dev/GDPProject-02/main/data.json\"\n",
    "intents=pd.read_json(data_file)"
   ]
  },
  {
   "cell_type": "code",
   "execution_count": null,
   "id": "5a10d8d6-64b9-4b45-80f8-467c649c0117",
   "metadata": {},
   "outputs": [
    {
     "ename": "",
     "evalue": "",
     "output_type": "error",
     "traceback": [
      "\u001b[1;31mRunning cells with 'c:\\Python311\\python.exe' requires the ipykernel package.\n",
      "\u001b[1;31mRun the following command to install 'ipykernel' into the Python environment. \n",
      "\u001b[1;31mCommand: 'c:/Python311/python.exe -m pip install ipykernel -U --user --force-reinstall'"
     ]
    }
   ],
   "source": [
    "intents"
   ]
  },
  {
   "cell_type": "markdown",
   "id": "ee36906e-bec3-439e-80ca-1eee822cd275",
   "metadata": {},
   "source": [
    "<h4>Data Preprocessing</h4>"
   ]
  },
  {
   "cell_type": "code",
   "execution_count": null,
   "id": "ee511940-95b6-4e8b-8be1-98f70185c7a4",
   "metadata": {},
   "outputs": [
    {
     "ename": "",
     "evalue": "",
     "output_type": "error",
     "traceback": [
      "\u001b[1;31mRunning cells with 'c:\\Python311\\python.exe' requires the ipykernel package.\n",
      "\u001b[1;31mRun the following command to install 'ipykernel' into the Python environment. \n",
      "\u001b[1;31mCommand: 'c:/Python311/python.exe -m pip install ipykernel -U --user --force-reinstall'"
     ]
    }
   ],
   "source": [
    "# preprocessing the json data\n",
    "# tokenization\n",
    "nltk.download('punkt')\n",
    "nltk.download('wordnet')"
   ]
  },
  {
   "cell_type": "code",
   "execution_count": null,
   "id": "dede6c7f-ed79-4c5b-9e62-602ebb45b0ef",
   "metadata": {},
   "outputs": [
    {
     "ename": "",
     "evalue": "",
     "output_type": "error",
     "traceback": [
      "\u001b[1;31mRunning cells with 'c:\\Python311\\python.exe' requires the ipykernel package.\n",
      "\u001b[1;31mRun the following command to install 'ipykernel' into the Python environment. \n",
      "\u001b[1;31mCommand: 'c:/Python311/python.exe -m pip install ipykernel -U --user --force-reinstall'"
     ]
    }
   ],
   "source": [
    "for intent in intents['intents']:\n",
    "    for pattern in intent['patterns']:\n",
    "\n",
    "        #tokenize each word\n",
    "        w = nltk.word_tokenize(pattern)\n",
    "        words.extend(w)\n",
    "        #add documents in the corpus\n",
    "        documents.append((w, intent['tag']))\n",
    "\n",
    "        # add to our classes list\n",
    "        if intent['tag'] not in classes:\n",
    "            classes.append(intent['tag'])"
   ]
  },
  {
   "cell_type": "code",
   "execution_count": null,
   "id": "9a2efb45-feff-40c7-8650-ecf73be00c3c",
   "metadata": {},
   "outputs": [
    {
     "ename": "",
     "evalue": "",
     "output_type": "error",
     "traceback": [
      "\u001b[1;31mRunning cells with 'c:\\Python311\\python.exe' requires the ipykernel package.\n",
      "\u001b[1;31mRun the following command to install 'ipykernel' into the Python environment. \n",
      "\u001b[1;31mCommand: 'c:/Python311/python.exe -m pip install ipykernel -U --user --force-reinstall'"
     ]
    }
   ],
   "source": [
    "# lemmatize, lower each word and remove duplicates\n",
    "\n",
    "words = [lemmatizer.lemmatize(w.lower()) for w in words if w not in ignore_words]\n",
    "words = sorted(list(set(words)))\n",
    "\n",
    "# sort classes\n",
    "classes = sorted(list(set(classes)))\n",
    "\n",
    "# documents = combination between patterns and intents\n",
    "print (len(documents), \"documents\")\n",
    "\n",
    "# classes = intents\n",
    "print (len(classes), \"classes\", classes)\n",
    "\n",
    "# words = all words, vocabulary\n",
    "print (len(words), \"unique lemmatized words\", words)\n",
    "\n",
    "# creating a pickle file to store the Python objects which we will use while predicting\n",
    "pickle.dump(words,open('words.pkl','wb')) \n",
    "pickle.dump(classes,open('classes.pkl','wb'))"
   ]
  },
  {
   "cell_type": "markdown",
   "id": "68bab95c-c60a-4ad3-9a4a-5645a45e9034",
   "metadata": {},
   "source": [
    "<h4>Creating Training Data</h4>"
   ]
  },
  {
   "cell_type": "code",
   "execution_count": null,
   "id": "89c0cb84-6c06-4937-8a9d-ccb0a1533d63",
   "metadata": {},
   "outputs": [
    {
     "ename": "",
     "evalue": "",
     "output_type": "error",
     "traceback": [
      "\u001b[1;31mRunning cells with 'c:\\Python311\\python.exe' requires the ipykernel package.\n",
      "\u001b[1;31mRun the following command to install 'ipykernel' into the Python environment. \n",
      "\u001b[1;31mCommand: 'c:/Python311/python.exe -m pip install ipykernel -U --user --force-reinstall'"
     ]
    }
   ],
   "source": [
    "# create our training data\n",
    "training = []\n",
    "\n",
    "# create an empty array for our output\n",
    "output_empty = [0] * len(classes)\n",
    "\n",
    "# training set, bag of words for each sentence\n",
    "for doc in documents:\n",
    "    # initialize our bag of words\n",
    "    bag = []\n",
    "    # list of tokenized words for the pattern\n",
    "    pattern_words = doc[0]\n",
    "   \n",
    "    # lemmatize each word - create base word, in attempt to represent related words\n",
    "    pattern_words = [lemmatizer.lemmatize(word.lower()) for word in pattern_words]\n",
    "    \n",
    "    # create our bag of words array with 1, if word match found in current pattern\n",
    "    for w in words:\n",
    "        bag.append(1) if w in pattern_words else bag.append(0)\n",
    "    # output is a '0' for each tag and '1' for current tag (for each pattern)\n",
    "    output_row = list(output_empty)\n",
    "    output_row[classes.index(doc[1])] = 1\n",
    "    training.append([bag, output_row])\n",
    "\n",
    "# shuffle features and converting it into numpy arrays\n",
    "random.shuffle(training)\n",
    "training = np.array(training,dtype=list)\n",
    "\n",
    "# create train and test lists\n",
    "train_x = list(training[:,0])\n",
    "train_y = list(training[:,1])\n",
    "\n",
    "print(\"Training data created\")"
   ]
  },
  {
   "cell_type": "code",
   "execution_count": null,
   "id": "22159520-1910-44d5-a68f-fedc33a9fa32",
   "metadata": {},
   "outputs": [
    {
     "ename": "",
     "evalue": "",
     "output_type": "error",
     "traceback": [
      "\u001b[1;31mRunning cells with 'c:\\Python311\\python.exe' requires the ipykernel package.\n",
      "\u001b[1;31mRun the following command to install 'ipykernel' into the Python environment. \n",
      "\u001b[1;31mCommand: 'c:/Python311/python.exe -m pip install ipykernel -U --user --force-reinstall'"
     ]
    }
   ],
   "source": [
    "type(training)"
   ]
  },
  {
   "cell_type": "markdown",
   "id": "648a5c18-2b71-44d2-9d67-15684a5ae089",
   "metadata": {},
   "source": [
    "<h4>Creating NN Model</h4> "
   ]
  },
  {
   "cell_type": "code",
   "execution_count": null,
   "id": "c3ec30cc-1ab0-44ba-851f-ef863901b54a",
   "metadata": {},
   "outputs": [
    {
     "ename": "",
     "evalue": "",
     "output_type": "error",
     "traceback": [
      "\u001b[1;31mRunning cells with 'c:\\Python311\\python.exe' requires the ipykernel package.\n",
      "\u001b[1;31mRun the following command to install 'ipykernel' into the Python environment. \n",
      "\u001b[1;31mCommand: 'c:/Python311/python.exe -m pip install ipykernel -U --user --force-reinstall'"
     ]
    }
   ],
   "source": [
    "# Create NN model to predict the responses\n",
    "model = Sequential()\n",
    "model.add(Dense(128, input_shape=(len(train_x[0]),), activation='relu'))\n",
    "model.add(Dropout(0.5))\n",
    "model.add(Dense(64, activation='relu'))\n",
    "model.add(Dropout(0.5))\n",
    "model.add(Dense(len(train_y[0]), activation='softmax'))\n",
    "\n",
    "# Compile model. Stochastic gradient descent with Nesterov accelerated gradient gives good results for this model\n",
    "sgd = SGD(learning_rate=0.01, decay=1e-6, momentum=0.9, nesterov=True)\n",
    "model.compile(loss='categorical_crossentropy', optimizer=sgd, metrics=['accuracy'])\n",
    "\n",
    "#fitting and saving the model \n",
    "hist = model.fit(np.array(train_x), np.array(train_y), epochs=200, batch_size=5, verbose=1)\n",
    "model.save('chatbot.h5', hist) # we will pickle this model to use in the future\n",
    "print(\"\\n\")\n",
    "print(\"*\"*50)\n",
    "print(\"\\nModel Created Successfully!\")"
   ]
  },
  {
   "cell_type": "code",
   "execution_count": null,
   "id": "31a27de5-2236-43af-a59e-c1ee9de53137",
   "metadata": {},
   "outputs": [
    {
     "ename": "",
     "evalue": "",
     "output_type": "error",
     "traceback": [
      "\u001b[1;31mRunning cells with 'c:\\Python311\\python.exe' requires the ipykernel package.\n",
      "\u001b[1;31mRun the following command to install 'ipykernel' into the Python environment. \n",
      "\u001b[1;31mCommand: 'c:/Python311/python.exe -m pip install ipykernel -U --user --force-reinstall'"
     ]
    }
   ],
   "source": [
    "# load the saved model file\n",
    "model = load_model('chatbot.h5')\n",
    "#intents = json.loads(open(r'C:\\Users\\s559891\\OneDrive - nwmissouri.edu\\Documents\\Z_GDP\\jupyter\\data.json').read())\n",
    "intents = pd.read_json(data_file)\n",
    "words = pickle.load(open('words.pkl','rb'))\n",
    "classes = pickle.load(open('classes.pkl','rb'))"
   ]
  },
  {
   "cell_type": "code",
   "execution_count": null,
   "id": "f67f4a5d-4f71-459d-ab14-14fb094ae971",
   "metadata": {},
   "outputs": [
    {
     "ename": "",
     "evalue": "",
     "output_type": "error",
     "traceback": [
      "\u001b[1;31mRunning cells with 'c:\\Python311\\python.exe' requires the ipykernel package.\n",
      "\u001b[1;31mRun the following command to install 'ipykernel' into the Python environment. \n",
      "\u001b[1;31mCommand: 'c:/Python311/python.exe -m pip install ipykernel -U --user --force-reinstall'"
     ]
    }
   ],
   "source": [
    "def clean_up_sentence(sentence):\n",
    "\n",
    "    # tokenize the pattern - split words into array\n",
    "    sentence_words = nltk.word_tokenize(sentence)\n",
    "    \n",
    "    # stem each word - create short form for word\n",
    "    sentence_words = [lemmatizer.lemmatize(word.lower()) for word in sentence_words]\n",
    "    return sentence_words\n",
    "\n",
    "\n",
    "# return bag of words array: 0 or 1 for each word in the bag that exists in the sentence\n",
    "\n",
    "def bow(sentence, words, show_details=True):\n",
    "\n",
    "    # tokenize the pattern\n",
    "    sentence_words = clean_up_sentence(sentence)\n",
    "\n",
    "    # bag of words - matrix of N words, vocabulary matrix\n",
    "    bag = [0]*len(words) \n",
    "    for s in sentence_words:\n",
    "        for i,w in enumerate(words):\n",
    "            if w == s: \n",
    "               \n",
    "                # assign 1 if current word is in the vocabulary position\n",
    "                bag[i] = 1\n",
    "                if show_details:\n",
    "                    print (\"found in bag: %s\" % w)\n",
    "    return(np.array(bag))\n",
    "\n",
    "def predict_class(sentence, model):\n",
    "   \n",
    "    # filter out predictions below a threshold\n",
    "    p = bow(sentence, words,show_details=False)\n",
    "    res = model.predict(np.array([p]))[0]\n",
    "    error = 0.25\n",
    "    results = [[i,r] for i,r in enumerate(res) if r>error]\n",
    "    \n",
    "    # sort by strength of probability\n",
    "    results.sort(key=lambda x: x[1], reverse=True)\n",
    "    return_list = []\n",
    "    \n",
    "    for r in results:\n",
    "        return_list.append({\"intent\": classes[r[0]], \"probability\": str(r[1])})\n",
    "    return return_list"
   ]
  },
  {
   "cell_type": "code",
   "execution_count": null,
   "id": "ffef2897-8fd2-43c5-9d8d-d66169ad9069",
   "metadata": {},
   "outputs": [
    {
     "ename": "",
     "evalue": "",
     "output_type": "error",
     "traceback": [
      "\u001b[1;31mRunning cells with 'c:\\Python311\\python.exe' requires the ipykernel package.\n",
      "\u001b[1;31mRun the following command to install 'ipykernel' into the Python environment. \n",
      "\u001b[1;31mCommand: 'c:/Python311/python.exe -m pip install ipykernel -U --user --force-reinstall'"
     ]
    }
   ],
   "source": [
    "# function to get the response from the model\n",
    "\n",
    "def getResponse(ints, intents_json):\n",
    "    tag = ints[0]['intent']\n",
    "    list_of_intents = intents_json['intents']\n",
    "    for i in list_of_intents:\n",
    "        if(i['tag']== tag):\n",
    "            result = random.choice(i['responses'])\n",
    "            break\n",
    "    return result\n",
    "\n",
    "# function to predict the class and get the response\n",
    "\n",
    "def chatbot_response(text):\n",
    "    ints = predict_class(text, model)\n",
    "    res = getResponse(ints, intents)\n",
    "    return res"
   ]
  },
  {
   "cell_type": "code",
   "execution_count": null,
   "id": "73dab51d-1ea5-43ce-8d85-01c66ab64db1",
   "metadata": {},
   "outputs": [
    {
     "ename": "",
     "evalue": "",
     "output_type": "error",
     "traceback": [
      "\u001b[1;31mRunning cells with 'c:\\Python311\\python.exe' requires the ipykernel package.\n",
      "\u001b[1;31mRun the following command to install 'ipykernel' into the Python environment. \n",
      "\u001b[1;31mCommand: 'c:/Python311/python.exe -m pip install ipykernel -U --user --force-reinstall'"
     ]
    }
   ],
   "source": [
    "# function to start the chat bot which will continue till the user type 'end'\n",
    "\n",
    "def start_chat():\n",
    "    print(\"Bot: This is MS-ACS Chatbot, Your Personal Assistant.\\n\\n\")\n",
    "    while True:\n",
    "        inp = str(input()).lower()\n",
    "        if inp.lower()==\"end\":\n",
    "            break\n",
    "        if inp.lower()== '' or inp.lower()== '*':\n",
    "            print('Please re-phrase your query!')\n",
    "            print(\"-\"*50)\n",
    "        else:\n",
    "            print(f\"Bot: {chatbot_response(inp)}\"+'\\n')\n",
    "            print(\"-\"*50)"
   ]
  },
  {
   "cell_type": "code",
   "execution_count": null,
   "id": "20a98675-2985-4503-9006-57856e00b4e5",
   "metadata": {},
   "outputs": [
    {
     "ename": "",
     "evalue": "",
     "output_type": "error",
     "traceback": [
      "\u001b[1;31mRunning cells with 'c:\\Python311\\python.exe' requires the ipykernel package.\n",
      "\u001b[1;31mRun the following command to install 'ipykernel' into the Python environment. \n",
      "\u001b[1;31mCommand: 'c:/Python311/python.exe -m pip install ipykernel -U --user --force-reinstall'"
     ]
    }
   ],
   "source": [
    "start_chat()"
   ]
  },
  {
   "cell_type": "markdown",
   "id": "e0209151-04ab-4dbb-aa59-66efcee0ede5",
   "metadata": {},
   "source": [
    "<h4>Chatting with BOT using the Tkinter App</h4>"
   ]
  },
  {
   "cell_type": "code",
   "execution_count": null,
   "id": "cd354d15-011c-4b90-aa34-dc3131fd8ff8",
   "metadata": {},
   "outputs": [
    {
     "ename": "",
     "evalue": "",
     "output_type": "error",
     "traceback": [
      "\u001b[1;31mRunning cells with 'c:\\Python311\\python.exe' requires the ipykernel package.\n",
      "\u001b[1;31mRun the following command to install 'ipykernel' into the Python environment. \n",
      "\u001b[1;31mCommand: 'c:/Python311/python.exe -m pip install ipykernel -U --user --force-reinstall'"
     ]
    }
   ],
   "source": [
    "\n",
    "\n",
    "import tkinter as tk\n",
    "\n",
    "from tkinter import *\n",
    "\n",
    "from datetime import datetime\n",
    "\n",
    "import requests\n",
    "\n",
    " \n",
    "\n",
    "def send_msz(event=None):\n",
    "\n",
    "    usr_input = message.get()\n",
    "\n",
    "    usr_input = usr_input.lower()\n",
    "\n",
    " \n",
    "\n",
    "    # Insert user query on the right side with a different tag\n",
    "\n",
    "    textcon.insert(END, f'You: {usr_input}\\n', 'user_query')\n",
    "\n",
    " \n",
    "\n",
    "    if usr_input in exit_list:\n",
    "\n",
    "        textcon.insert(END, \"Bot: Ok bye! Chat with you later\\n\", 'chatbot_response')\n",
    "\n",
    "        textcon.see(\"end\")\n",
    "\n",
    "        return root.destroy()\n",
    "\n",
    "    else:\n",
    "\n",
    "        lab = f\"Bot: {chatbot_response(usr_input)}\\n\\n\"\n",
    "\n",
    " \n",
    "\n",
    "        # Insert chatbot response on the left side with a different tag\n",
    "\n",
    "        textcon.insert(END, lab, 'chatbot_response')\n",
    "\n",
    "        textcon.see(\"end\")\n",
    "\n",
    "        mes_win.delete(0, END)\n",
    "\n",
    " \n",
    "\n",
    "def scroll_chat(direction):\n",
    "\n",
    "    textcon.yview_scroll(direction, \"units\")\n",
    "\n",
    " \n",
    "\n",
    "def open_feedback_form():\n",
    "\n",
    "    feedback_window = Toplevel(root)\n",
    "\n",
    "    feedback_window.title(\"Feedback Form\")\n",
    "\n",
    " \n",
    "\n",
    "    # Create labels and entry fields for feedback form\n",
    "\n",
    "    label_name = Label(feedback_window, text=\"Name:\")\n",
    "\n",
    "    label_name.pack()\n",
    "\n",
    "    entry_name = Entry(feedback_window)\n",
    "\n",
    "    entry_name.pack()\n",
    "\n",
    " \n",
    "\n",
    "    label_email = Label(feedback_window, text=\"Email:\")\n",
    "\n",
    "    label_email.pack()\n",
    "\n",
    "    entry_email = Entry(feedback_window)\n",
    "\n",
    "    entry_email.pack()\n",
    "\n",
    " \n",
    "\n",
    "    label_feedback = Label(feedback_window, text=\"Feedback:\")\n",
    "\n",
    "    label_feedback.pack()\n",
    "\n",
    "    text_feedback = Text(feedback_window, height=5, width=30)\n",
    "\n",
    "    text_feedback.pack()\n",
    "\n",
    " \n",
    "\n",
    "    submit_button = Button(feedback_window, text=\"Submit\", command=lambda: save_feedback(entry_name.get(), entry_email.get(), text_feedback.get(\"1.0\", END)))\n",
    "\n",
    "    submit_button.pack()\n",
    "\n",
    " \n",
    "\n",
    "    feedback_window.mainloop()\n",
    "\n",
    " \n",
    "\n",
    "def save_feedback(name, email, feedback):\n",
    "\n",
    "    feedback_data = f\"Name: {name}\\nEmail: {email}\\nFeedback: {feedback}\\nSubmission Date: {datetime.now()}\\n\\n\"\n",
    "\n",
    " \n",
    "\n",
    "    # GitHub repository URL and file path\n",
    "\n",
    "    github_repo_url = \"https://github.com/TrinadhM-dev/GDPProject-02\"\n",
    "\n",
    "    file_path = \"feedback.txt\"\n",
    "\n",
    " \n",
    "\n",
    "    # Set your personal access token\n",
    "\n",
    "    access_token = \"YOUR_GITHUB_ACCESS_TOKEN\"\n",
    "\n",
    " \n",
    "\n",
    "    # Create a JSON payload for the API request\n",
    "\n",
    "    payload = {\n",
    "\n",
    "        \"message\": \"Add user feedback\",\n",
    "\n",
    "        \"content\": feedback_data\n",
    "\n",
    "    }\n",
    "\n",
    " \n",
    "\n",
    "    # Create headers with the personal access token\n",
    "\n",
    "    headers = {\n",
    "\n",
    "        \"Authorization\": f\"token {access_token}\"\n",
    "\n",
    "    }\n",
    "\n",
    " \n",
    "\n",
    "    response = requests.put(\n",
    "\n",
    "        f\"{github_repo_url}/contents/{file_path}\",\n",
    "\n",
    "        json=payload,\n",
    "\n",
    "        headers=headers\n",
    "\n",
    "    )\n",
    "\n",
    " \n",
    "\n",
    "    if response.status_code == 200:\n",
    "\n",
    "        print(\"Feedback saved to GitHub successfully.\")\n",
    "\n",
    "    else:\n",
    "\n",
    "        print(\"Error saving feedback to GitHub:\", response.text)\n",
    "\n",
    " \n",
    "\n",
    "    # Close the feedback form window\n",
    "\n",
    "    feedback_window.destroy()\n",
    "\n",
    " \n",
    "\n",
    "root = tk.Tk()\n",
    "\n",
    "root.title(\"MS-Applied Computer Science Chatbot Project\")\n",
    "\n",
    "root.geometry(\"500x400\")\n",
    "\n",
    "root.resizable(False, False)\n",
    "\n",
    " \n",
    "\n",
    "chat_win = Frame(root, bd=1, bg=\"white\", width=50, height=8)\n",
    "\n",
    "chat_win.place(x=6, y=6, height=300, width=488)\n",
    "\n",
    " \n",
    "\n",
    "canvas = Canvas(chat_win, bd=0, bg=\"white\", highlightthickness=0)\n",
    "\n",
    "canvas.pack(side=\"left\", fill=\"both\", expand=True)\n",
    "\n",
    " \n",
    "\n",
    "vsb = Scrollbar(chat_win, orient=\"vertical\", command=scroll_chat)\n",
    "\n",
    "vsb.pack(side=\"right\", fill=\"y\")\n",
    "\n",
    " \n",
    "\n",
    "up_button = Button(chat_win, text=\"▲\", command=lambda: scroll_chat(-1), width=2, height=1)\n",
    "\n",
    "up_button.pack(side=\"top\")\n",
    "\n",
    " \n",
    "\n",
    "down_button = Button(chat_win, text=\"▼\", command=lambda: scroll_chat(1), width=2, height=1)\n",
    "\n",
    "down_button.pack(side=\"bottom\")\n",
    "\n",
    " \n",
    "\n",
    "canvas.configure(yscrollcommand=vsb.set)\n",
    "\n",
    "canvas.bind(\"<Configure>\", lambda e: canvas.configure(scrollregion=canvas.bbox(\"all\")))\n",
    "\n",
    " \n",
    "\n",
    "textcon = Text(canvas, bd=0, bg=\"white\", width=50, height=8)\n",
    "\n",
    "textcon.pack(fill=\"both\", expand=True)\n",
    "\n",
    " \n",
    "\n",
    "message = tk.StringVar()\n",
    "\n",
    " \n",
    "\n",
    "mes_win = Entry(root, width=30, xscrollcommand=True, textvariable=message)\n",
    "\n",
    "mes_win.place(x=6, y=310, height=60, width=380)\n",
    "\n",
    "mes_win.focus()\n",
    "\n",
    " \n",
    "\n",
    "# Define tag configurations for user queries and chatbot responses\n",
    "\n",
    "textcon.tag_config(\"user_query\", justify=\"right\", foreground=\"blue\")\n",
    "\n",
    "textcon.tag_config(\"chatbot_response\", justify=\"left\", foreground=\"green\")\n",
    "\n",
    " \n",
    "\n",
    "exit_list = [\"exit\", \"break\", \"quit\", \"see you later\", \"chat with you later\", \"end the chat\", \"bye\", \"ok bye\", \"end\"]\n",
    "\n",
    " \n",
    "\n",
    "button_send = Button(root, text='Send', bg='dark green', activebackground='grey', command=send_msz, width=12, height=5, font=('Arial'))\n",
    "\n",
    "button_send.place(x=376, y=310, height=60, width=110)\n",
    "\n",
    " \n",
    "\n",
    "button_feedback = Button(root, text='Feedback', command=open_feedback_form)\n",
    "\n",
    "button_feedback.place(x=6, y=370, height=30, width=110)\n",
    "\n",
    " \n",
    "\n",
    "root.bind('<Return>', send_msz)\n",
    "\n",
    " \n",
    "\n",
    "root.mainloop()\n"
   ]
  },
  {
   "cell_type": "code",
   "execution_count": null,
   "id": "69d646da-1238-4ed9-bb69-a5ab2332d1b1",
   "metadata": {},
   "outputs": [
    {
     "ename": "",
     "evalue": "",
     "output_type": "error",
     "traceback": [
      "\u001b[1;31mRunning cells with 'c:\\Python311\\python.exe' requires the ipykernel package.\n",
      "\u001b[1;31mRun the following command to install 'ipykernel' into the Python environment. \n",
      "\u001b[1;31mCommand: 'c:/Python311/python.exe -m pip install ipykernel -U --user --force-reinstall'"
     ]
    }
   ],
   "source": [
    "root.mainloop()"
   ]
  },
  {
   "cell_type": "code",
   "execution_count": null,
   "id": "6814dbd0-0a37-4486-8893-55301f791168",
   "metadata": {},
   "outputs": [
    {
     "ename": "",
     "evalue": "",
     "output_type": "error",
     "traceback": [
      "\u001b[1;31mRunning cells with 'c:\\Python311\\python.exe' requires the ipykernel package.\n",
      "\u001b[1;31mRun the following command to install 'ipykernel' into the Python environment. \n",
      "\u001b[1;31mCommand: 'c:/Python311/python.exe -m pip install ipykernel -U --user --force-reinstall'"
     ]
    }
   ],
   "source": []
  }
 ],
 "metadata": {
  "kernelspec": {
   "display_name": "Python 3 (ipykernel)",
   "language": "python",
   "name": "python3"
  },
  "language_info": {
   "codemirror_mode": {
    "name": "ipython",
    "version": 3
   },
   "file_extension": ".py",
   "mimetype": "text/x-python",
   "name": "python",
   "nbconvert_exporter": "python",
   "pygments_lexer": "ipython3",
   "version": "3.11.0"
  }
 },
 "nbformat": 4,
 "nbformat_minor": 5
}
