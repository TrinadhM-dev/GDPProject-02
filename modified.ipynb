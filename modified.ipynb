{
 "cells": [
  {
   "cell_type": "code",
   "execution_count": 1,
   "id": "906f61f6-fd98-4f10-9b24-170ae585166c",
   "metadata": {},
   "outputs": [],
   "source": [
    "import warnings "
   ]
  },
  {
   "cell_type": "code",
   "execution_count": 2,
   "id": "72c44a65-1e98-44cb-a495-10a558aaf11f",
   "metadata": {},
   "outputs": [
    {
     "name": "stdout",
     "output_type": "stream",
     "text": [
      "Requirement already satisfied: nltk in c:\\users\\s559891\\appdata\\local\\programs\\python\\python311\\lib\\site-packages (3.8.1)\n",
      "Requirement already satisfied: click in c:\\users\\s559891\\appdata\\local\\programs\\python\\python311\\lib\\site-packages (from nltk) (8.1.7)\n",
      "Requirement already satisfied: joblib in c:\\users\\s559891\\appdata\\local\\programs\\python\\python311\\lib\\site-packages (from nltk) (1.3.2)\n",
      "Requirement already satisfied: regex>=2021.8.3 in c:\\users\\s559891\\appdata\\local\\programs\\python\\python311\\lib\\site-packages (from nltk) (2023.12.25)\n",
      "Requirement already satisfied: tqdm in c:\\users\\s559891\\appdata\\local\\programs\\python\\python311\\lib\\site-packages (from nltk) (4.66.1)\n",
      "Requirement already satisfied: colorama in c:\\users\\s559891\\appdata\\local\\programs\\python\\python311\\lib\\site-packages (from click->nltk) (0.4.6)\n",
      "Note: you may need to restart the kernel to use updated packages.\n"
     ]
    },
    {
     "name": "stderr",
     "output_type": "stream",
     "text": [
      "\n",
      "[notice] A new release of pip is available: 23.2.1 -> 24.0\n",
      "[notice] To update, run: python.exe -m pip install --upgrade pip\n"
     ]
    }
   ],
   "source": [
    "pip install nltk"
   ]
  },
  {
   "cell_type": "code",
   "execution_count": 3,
   "id": "e5ebe80f-8860-476b-b203-a29b599b8ff3",
   "metadata": {},
   "outputs": [],
   "source": [
    "warnings.filterwarnings(\"ignore\")\n",
    "\n",
    "#NLTK (Natural Language Toolkit) is an NLP (Natural Language Processing) library for Python. \n",
    "import nltk\n",
    "from nltk.stem import WordNetLemmatizer\n",
    "import json\n",
    "import pickle"
   ]
  },
  {
   "cell_type": "code",
   "execution_count": 4,
   "id": "cb303b27-0b26-4aff-a5d5-8f9652a5f53d",
   "metadata": {},
   "outputs": [
    {
     "name": "stdout",
     "output_type": "stream",
     "text": [
      "Requirement already satisfied: tensorflow in c:\\users\\s559891\\appdata\\local\\programs\\python\\python311\\lib\\site-packages (2.15.0)"
     ]
    },
    {
     "name": "stderr",
     "output_type": "stream",
     "text": [
      "\n",
      "[notice] A new release of pip is available: 23.2.1 -> 24.0\n",
      "[notice] To update, run: python.exe -m pip install --upgrade pip\n"
     ]
    },
    {
     "name": "stdout",
     "output_type": "stream",
     "text": [
      "\n",
      "Requirement already satisfied: tensorflow-intel==2.15.0 in c:\\users\\s559891\\appdata\\local\\programs\\python\\python311\\lib\\site-packages (from tensorflow) (2.15.0)\n",
      "Requirement already satisfied: absl-py>=1.0.0 in c:\\users\\s559891\\appdata\\local\\programs\\python\\python311\\lib\\site-packages (from tensorflow-intel==2.15.0->tensorflow) (2.1.0)\n",
      "Requirement already satisfied: astunparse>=1.6.0 in c:\\users\\s559891\\appdata\\local\\programs\\python\\python311\\lib\\site-packages (from tensorflow-intel==2.15.0->tensorflow) (1.6.3)\n",
      "Requirement already satisfied: flatbuffers>=23.5.26 in c:\\users\\s559891\\appdata\\local\\programs\\python\\python311\\lib\\site-packages (from tensorflow-intel==2.15.0->tensorflow) (23.5.26)\n",
      "Requirement already satisfied: gast!=0.5.0,!=0.5.1,!=0.5.2,>=0.2.1 in c:\\users\\s559891\\appdata\\local\\programs\\python\\python311\\lib\\site-packages (from tensorflow-intel==2.15.0->tensorflow) (0.5.4)\n",
      "Requirement already satisfied: google-pasta>=0.1.1 in c:\\users\\s559891\\appdata\\local\\programs\\python\\python311\\lib\\site-packages (from tensorflow-intel==2.15.0->tensorflow) (0.2.0)\n",
      "Requirement already satisfied: h5py>=2.9.0 in c:\\users\\s559891\\appdata\\local\\programs\\python\\python311\\lib\\site-packages (from tensorflow-intel==2.15.0->tensorflow) (3.10.0)\n",
      "Requirement already satisfied: libclang>=13.0.0 in c:\\users\\s559891\\appdata\\local\\programs\\python\\python311\\lib\\site-packages (from tensorflow-intel==2.15.0->tensorflow) (16.0.6)\n",
      "Requirement already satisfied: ml-dtypes~=0.2.0 in c:\\users\\s559891\\appdata\\local\\programs\\python\\python311\\lib\\site-packages (from tensorflow-intel==2.15.0->tensorflow) (0.2.0)\n",
      "Requirement already satisfied: numpy<2.0.0,>=1.23.5 in c:\\users\\s559891\\appdata\\local\\programs\\python\\python311\\lib\\site-packages (from tensorflow-intel==2.15.0->tensorflow) (1.26.4)\n",
      "Requirement already satisfied: opt-einsum>=2.3.2 in c:\\users\\s559891\\appdata\\local\\programs\\python\\python311\\lib\\site-packages (from tensorflow-intel==2.15.0->tensorflow) (3.3.0)\n",
      "Requirement already satisfied: packaging in c:\\users\\s559891\\appdata\\local\\programs\\python\\python311\\lib\\site-packages (from tensorflow-intel==2.15.0->tensorflow) (23.2)\n",
      "Requirement already satisfied: protobuf!=4.21.0,!=4.21.1,!=4.21.2,!=4.21.3,!=4.21.4,!=4.21.5,<5.0.0dev,>=3.20.3 in c:\\users\\s559891\\appdata\\local\\programs\\python\\python311\\lib\\site-packages (from tensorflow-intel==2.15.0->tensorflow) (4.23.4)\n",
      "Requirement already satisfied: setuptools in c:\\users\\s559891\\appdata\\local\\programs\\python\\python311\\lib\\site-packages (from tensorflow-intel==2.15.0->tensorflow) (65.5.0)\n",
      "Requirement already satisfied: six>=1.12.0 in c:\\users\\s559891\\appdata\\local\\programs\\python\\python311\\lib\\site-packages (from tensorflow-intel==2.15.0->tensorflow) (1.16.0)\n",
      "Requirement already satisfied: termcolor>=1.1.0 in c:\\users\\s559891\\appdata\\local\\programs\\python\\python311\\lib\\site-packages (from tensorflow-intel==2.15.0->tensorflow) (2.4.0)\n",
      "Requirement already satisfied: typing-extensions>=3.6.6 in c:\\users\\s559891\\appdata\\local\\programs\\python\\python311\\lib\\site-packages (from tensorflow-intel==2.15.0->tensorflow) (4.9.0)\n",
      "Requirement already satisfied: wrapt<1.15,>=1.11.0 in c:\\users\\s559891\\appdata\\local\\programs\\python\\python311\\lib\\site-packages (from tensorflow-intel==2.15.0->tensorflow) (1.14.1)\n",
      "Requirement already satisfied: tensorflow-io-gcs-filesystem>=0.23.1 in c:\\users\\s559891\\appdata\\local\\programs\\python\\python311\\lib\\site-packages (from tensorflow-intel==2.15.0->tensorflow) (0.31.0)\n",
      "Requirement already satisfied: grpcio<2.0,>=1.24.3 in c:\\users\\s559891\\appdata\\local\\programs\\python\\python311\\lib\\site-packages (from tensorflow-intel==2.15.0->tensorflow) (1.60.1)\n",
      "Requirement already satisfied: tensorboard<2.16,>=2.15 in c:\\users\\s559891\\appdata\\local\\programs\\python\\python311\\lib\\site-packages (from tensorflow-intel==2.15.0->tensorflow) (2.15.1)\n",
      "Requirement already satisfied: tensorflow-estimator<2.16,>=2.15.0 in c:\\users\\s559891\\appdata\\local\\programs\\python\\python311\\lib\\site-packages (from tensorflow-intel==2.15.0->tensorflow) (2.15.0)\n",
      "Requirement already satisfied: keras<2.16,>=2.15.0 in c:\\users\\s559891\\appdata\\local\\programs\\python\\python311\\lib\\site-packages (from tensorflow-intel==2.15.0->tensorflow) (2.15.0)\n",
      "Requirement already satisfied: wheel<1.0,>=0.23.0 in c:\\users\\s559891\\appdata\\local\\programs\\python\\python311\\lib\\site-packages (from astunparse>=1.6.0->tensorflow-intel==2.15.0->tensorflow) (0.42.0)\n",
      "Requirement already satisfied: google-auth<3,>=1.6.3 in c:\\users\\s559891\\appdata\\local\\programs\\python\\python311\\lib\\site-packages (from tensorboard<2.16,>=2.15->tensorflow-intel==2.15.0->tensorflow) (2.27.0)\n",
      "Requirement already satisfied: google-auth-oauthlib<2,>=0.5 in c:\\users\\s559891\\appdata\\local\\programs\\python\\python311\\lib\\site-packages (from tensorboard<2.16,>=2.15->tensorflow-intel==2.15.0->tensorflow) (1.2.0)\n",
      "Requirement already satisfied: markdown>=2.6.8 in c:\\users\\s559891\\appdata\\local\\programs\\python\\python311\\lib\\site-packages (from tensorboard<2.16,>=2.15->tensorflow-intel==2.15.0->tensorflow) (3.5.2)\n",
      "Requirement already satisfied: requests<3,>=2.21.0 in c:\\users\\s559891\\appdata\\local\\programs\\python\\python311\\lib\\site-packages (from tensorboard<2.16,>=2.15->tensorflow-intel==2.15.0->tensorflow) (2.31.0)\n",
      "Requirement already satisfied: tensorboard-data-server<0.8.0,>=0.7.0 in c:\\users\\s559891\\appdata\\local\\programs\\python\\python311\\lib\\site-packages (from tensorboard<2.16,>=2.15->tensorflow-intel==2.15.0->tensorflow) (0.7.2)\n",
      "Requirement already satisfied: werkzeug>=1.0.1 in c:\\users\\s559891\\appdata\\local\\programs\\python\\python311\\lib\\site-packages (from tensorboard<2.16,>=2.15->tensorflow-intel==2.15.0->tensorflow) (3.0.1)\n",
      "Requirement already satisfied: cachetools<6.0,>=2.0.0 in c:\\users\\s559891\\appdata\\local\\programs\\python\\python311\\lib\\site-packages (from google-auth<3,>=1.6.3->tensorboard<2.16,>=2.15->tensorflow-intel==2.15.0->tensorflow) (5.3.2)\n",
      "Requirement already satisfied: pyasn1-modules>=0.2.1 in c:\\users\\s559891\\appdata\\local\\programs\\python\\python311\\lib\\site-packages (from google-auth<3,>=1.6.3->tensorboard<2.16,>=2.15->tensorflow-intel==2.15.0->tensorflow) (0.3.0)\n",
      "Requirement already satisfied: rsa<5,>=3.1.4 in c:\\users\\s559891\\appdata\\local\\programs\\python\\python311\\lib\\site-packages (from google-auth<3,>=1.6.3->tensorboard<2.16,>=2.15->tensorflow-intel==2.15.0->tensorflow) (4.9)\n",
      "Requirement already satisfied: requests-oauthlib>=0.7.0 in c:\\users\\s559891\\appdata\\local\\programs\\python\\python311\\lib\\site-packages (from google-auth-oauthlib<2,>=0.5->tensorboard<2.16,>=2.15->tensorflow-intel==2.15.0->tensorflow) (1.3.1)\n",
      "Requirement already satisfied: charset-normalizer<4,>=2 in c:\\users\\s559891\\appdata\\local\\programs\\python\\python311\\lib\\site-packages (from requests<3,>=2.21.0->tensorboard<2.16,>=2.15->tensorflow-intel==2.15.0->tensorflow) (3.3.2)\n",
      "Requirement already satisfied: idna<4,>=2.5 in c:\\users\\s559891\\appdata\\local\\programs\\python\\python311\\lib\\site-packages (from requests<3,>=2.21.0->tensorboard<2.16,>=2.15->tensorflow-intel==2.15.0->tensorflow) (3.6)\n",
      "Requirement already satisfied: urllib3<3,>=1.21.1 in c:\\users\\s559891\\appdata\\local\\programs\\python\\python311\\lib\\site-packages (from requests<3,>=2.21.0->tensorboard<2.16,>=2.15->tensorflow-intel==2.15.0->tensorflow) (2.2.0)\n",
      "Requirement already satisfied: certifi>=2017.4.17 in c:\\users\\s559891\\appdata\\local\\programs\\python\\python311\\lib\\site-packages (from requests<3,>=2.21.0->tensorboard<2.16,>=2.15->tensorflow-intel==2.15.0->tensorflow) (2024.2.2)\n",
      "Requirement already satisfied: MarkupSafe>=2.1.1 in c:\\users\\s559891\\appdata\\local\\programs\\python\\python311\\lib\\site-packages (from werkzeug>=1.0.1->tensorboard<2.16,>=2.15->tensorflow-intel==2.15.0->tensorflow) (2.1.5)\n",
      "Requirement already satisfied: pyasn1<0.6.0,>=0.4.6 in c:\\users\\s559891\\appdata\\local\\programs\\python\\python311\\lib\\site-packages (from pyasn1-modules>=0.2.1->google-auth<3,>=1.6.3->tensorboard<2.16,>=2.15->tensorflow-intel==2.15.0->tensorflow) (0.5.1)\n",
      "Requirement already satisfied: oauthlib>=3.0.0 in c:\\users\\s559891\\appdata\\local\\programs\\python\\python311\\lib\\site-packages (from requests-oauthlib>=0.7.0->google-auth-oauthlib<2,>=0.5->tensorboard<2.16,>=2.15->tensorflow-intel==2.15.0->tensorflow) (3.2.2)\n"
     ]
    }
   ],
   "source": [
    "!pip install tensorflow\n"
   ]
  },
  {
   "cell_type": "code",
   "execution_count": 5,
   "id": "b506b69c-e7b9-473c-81c5-461d7e2bfdb6",
   "metadata": {},
   "outputs": [
    {
     "name": "stdout",
     "output_type": "stream",
     "text": [
      "Requirement already satisfied: numpy in c:\\users\\s559891\\appdata\\local\\programs\\python\\python311\\lib\\site-packages (1.26.4)\n",
      "Note: you may need to restart the kernel to use updated packages.\n"
     ]
    },
    {
     "name": "stderr",
     "output_type": "stream",
     "text": [
      "\n",
      "[notice] A new release of pip is available: 23.2.1 -> 24.0\n",
      "[notice] To update, run: python.exe -m pip install --upgrade pip\n"
     ]
    }
   ],
   "source": [
    "pip install numpy"
   ]
  },
  {
   "cell_type": "code",
   "execution_count": 6,
   "id": "a505bc54-74cc-4f71-a09e-b510f4febe76",
   "metadata": {},
   "outputs": [
    {
     "name": "stdout",
     "output_type": "stream",
     "text": [
      "Requirement already satisfied: pandas in c:\\users\\s559891\\appdata\\local\\programs\\python\\python311\\lib\\site-packages (2.2.0)Note: you may need to restart the kernel to use updated packages.\n"
     ]
    },
    {
     "name": "stderr",
     "output_type": "stream",
     "text": [
      "\n",
      "[notice] A new release of pip is available: 23.2.1 -> 24.0\n",
      "[notice] To update, run: python.exe -m pip install --upgrade pip\n"
     ]
    },
    {
     "name": "stdout",
     "output_type": "stream",
     "text": [
      "\n",
      "Requirement already satisfied: numpy<2,>=1.23.2 in c:\\users\\s559891\\appdata\\local\\programs\\python\\python311\\lib\\site-packages (from pandas) (1.26.4)\n",
      "Requirement already satisfied: python-dateutil>=2.8.2 in c:\\users\\s559891\\appdata\\local\\programs\\python\\python311\\lib\\site-packages (from pandas) (2.8.2)\n",
      "Requirement already satisfied: pytz>=2020.1 in c:\\users\\s559891\\appdata\\local\\programs\\python\\python311\\lib\\site-packages (from pandas) (2024.1)\n",
      "Requirement already satisfied: tzdata>=2022.7 in c:\\users\\s559891\\appdata\\local\\programs\\python\\python311\\lib\\site-packages (from pandas) (2023.4)\n",
      "Requirement already satisfied: six>=1.5 in c:\\users\\s559891\\appdata\\local\\programs\\python\\python311\\lib\\site-packages (from python-dateutil>=2.8.2->pandas) (1.16.0)\n"
     ]
    }
   ],
   "source": [
    "pip install pandas"
   ]
  },
  {
   "cell_type": "code",
   "execution_count": 7,
   "id": "3cd196aa-9f09-4adb-9517-d9c7189da99e",
   "metadata": {},
   "outputs": [
    {
     "name": "stdout",
     "output_type": "stream",
     "text": [
      "WARNING:tensorflow:From C:\\Users\\s559891\\AppData\\Local\\Programs\\Python\\Python311\\Lib\\site-packages\\keras\\src\\losses.py:2976: The name tf.losses.sparse_softmax_cross_entropy is deprecated. Please use tf.compat.v1.losses.sparse_softmax_cross_entropy instead.\n",
      "\n"
     ]
    }
   ],
   "source": [
    "import numpy as np\n",
    "from tensorflow.keras.models import Sequential\n",
    "from tensorflow.keras.layers import Dense, Activation, Dropout\n",
    "from tensorflow.keras.optimizers import SGD\n",
    "from tensorflow.keras.optimizers.legacy import SGD\n",
    "import random\n",
    "from keras.models import load_model\n",
    "import pandas as pd"
   ]
  },
  {
   "cell_type": "code",
   "execution_count": 8,
   "id": "15aaef17-dc5b-4ca4-9543-782b4481cb1c",
   "metadata": {},
   "outputs": [],
   "source": [
    "# create an object of WordNetLemmatizer\n",
    "lemmatizer = WordNetLemmatizer()"
   ]
  },
  {
   "cell_type": "code",
   "execution_count": 9,
   "id": "f0a8fb8c-c59f-4f8a-ba5d-adfc5bde5016",
   "metadata": {},
   "outputs": [],
   "source": [
    "# importing the GL Bot corpus file for pre-processing\n",
    "\n",
    "#stores all the words found in corpus.\n",
    "words=[]\n",
    "\n",
    "#stores all the different classes/intents for  chatbot.\n",
    "classes = []\n",
    "\n",
    "#stores tuples containing tokenized words and their associated intent or class.\n",
    "documents = []\n",
    "\n",
    "ignore_words = ['?', '!']"
   ]
  },
  {
   "cell_type": "code",
   "execution_count": 10,
   "id": "f0f8f7e4-c9b4-4860-864a-b58ecf2f186f",
   "metadata": {},
   "outputs": [],
   "source": [
    "#data_file = open(r'C:\\Users\\s559891\\OneDrive - nwmissouri.edu\\Documents\\Z_GDP\\jupyter\\data.json').read()\n",
    "#intents = json.loads(data_file)\n",
    "#https://raw.githubusercontent.com/TrinadhM-dev/GDPProject-02/main/data.json"
   ]
  },
  {
   "cell_type": "code",
   "execution_count": 11,
   "id": "6f96601d-2984-464e-8e71-8e8aa6cccd75",
   "metadata": {},
   "outputs": [],
   "source": [
    "data_file = \"https://raw.githubusercontent.com/TrinadhM-dev/GDPProject-02/main/data.json\"\n",
    "#data_file = \"https://raw.githubusercontent.com/TrinadhM-dev/GDPProject-02/main/seedData.json\"\n",
    "intents=pd.read_json(data_file)"
   ]
  },
  {
   "cell_type": "code",
   "execution_count": 12,
   "id": "5a10d8d6-64b9-4b45-80f8-467c649c0117",
   "metadata": {},
   "outputs": [
    {
     "data": {
      "text/html": [
       "<div>\n",
       "<style scoped>\n",
       "    .dataframe tbody tr th:only-of-type {\n",
       "        vertical-align: middle;\n",
       "    }\n",
       "\n",
       "    .dataframe tbody tr th {\n",
       "        vertical-align: top;\n",
       "    }\n",
       "\n",
       "    .dataframe thead th {\n",
       "        text-align: right;\n",
       "    }\n",
       "</style>\n",
       "<table border=\"1\" class=\"dataframe\">\n",
       "  <thead>\n",
       "    <tr style=\"text-align: right;\">\n",
       "      <th></th>\n",
       "      <th>intents</th>\n",
       "    </tr>\n",
       "  </thead>\n",
       "  <tbody>\n",
       "    <tr>\n",
       "      <th>0</th>\n",
       "      <td>{'tag': 'Welcome', 'patterns': ['just going to...</td>\n",
       "    </tr>\n",
       "    <tr>\n",
       "      <th>1</th>\n",
       "      <td>{'tag': 'FallBack', 'patterns': ['', '', '', '...</td>\n",
       "    </tr>\n",
       "    <tr>\n",
       "      <th>2</th>\n",
       "      <td>{'tag': 'CourseOverview', 'patterns': ['Tell m...</td>\n",
       "    </tr>\n",
       "    <tr>\n",
       "      <th>3</th>\n",
       "      <td>{'tag': 'ACSProfessors', 'patterns': ['Provide...</td>\n",
       "    </tr>\n",
       "    <tr>\n",
       "      <th>4</th>\n",
       "      <td>{'tag': 'Assistance for graduates ', 'patterns...</td>\n",
       "    </tr>\n",
       "    <tr>\n",
       "      <th>5</th>\n",
       "      <td>{'tag': 'CreditHours', 'patterns': ['How many ...</td>\n",
       "    </tr>\n",
       "    <tr>\n",
       "      <th>6</th>\n",
       "      <td>{'tag': 'TuitionFee', 'patterns': ['Is there a...</td>\n",
       "    </tr>\n",
       "    <tr>\n",
       "      <th>7</th>\n",
       "      <td>{'tag': 'Intakes', 'patterns': ['How many inta...</td>\n",
       "    </tr>\n",
       "    <tr>\n",
       "      <th>8</th>\n",
       "      <td>{'tag': 'ACSCourses', 'patterns': ['What are t...</td>\n",
       "    </tr>\n",
       "    <tr>\n",
       "      <th>9</th>\n",
       "      <td>{'tag': 'Electives', 'patterns': ['Are there a...</td>\n",
       "    </tr>\n",
       "    <tr>\n",
       "      <th>10</th>\n",
       "      <td>{'tag': 'Prerequisites', 'patterns': ['Are the...</td>\n",
       "    </tr>\n",
       "    <tr>\n",
       "      <th>11</th>\n",
       "      <td>{'tag': 'RequiredGPA', 'patterns': ['What is t...</td>\n",
       "    </tr>\n",
       "    <tr>\n",
       "      <th>12</th>\n",
       "      <td>{'tag': 'DeadlinesForSpringIntake', 'patterns'...</td>\n",
       "    </tr>\n",
       "    <tr>\n",
       "      <th>13</th>\n",
       "      <td>{'tag': 'DeadlinesForFallIntake', 'patterns': ...</td>\n",
       "    </tr>\n",
       "    <tr>\n",
       "      <th>14</th>\n",
       "      <td>{'tag': 'DeadlinesForSummerIntake', 'patterns'...</td>\n",
       "    </tr>\n",
       "    <tr>\n",
       "      <th>15</th>\n",
       "      <td>{'tag': 'OnCampusJobs', 'patterns': ['Can you ...</td>\n",
       "    </tr>\n",
       "    <tr>\n",
       "      <th>16</th>\n",
       "      <td>{'tag': 'JobPlacementRate', 'patterns': ['What...</td>\n",
       "    </tr>\n",
       "    <tr>\n",
       "      <th>17</th>\n",
       "      <td>{'tag': 'CS/IS International Graduate Achievem...</td>\n",
       "    </tr>\n",
       "    <tr>\n",
       "      <th>18</th>\n",
       "      <td>{'tag': 'Student-Faculty Ratio', 'patterns': [...</td>\n",
       "    </tr>\n",
       "    <tr>\n",
       "      <th>19</th>\n",
       "      <td>{'tag': 'Admission Crietria', 'patterns': ['Wh...</td>\n",
       "    </tr>\n",
       "    <tr>\n",
       "      <th>20</th>\n",
       "      <td>{'tag': 'Wellness Center', 'patterns': ['Is th...</td>\n",
       "    </tr>\n",
       "    <tr>\n",
       "      <th>21</th>\n",
       "      <td>{'tag': 'Standardized test score requirements'...</td>\n",
       "    </tr>\n",
       "    <tr>\n",
       "      <th>22</th>\n",
       "      <td>{'tag': 'specialized tools for coursework? ', ...</td>\n",
       "    </tr>\n",
       "    <tr>\n",
       "      <th>23</th>\n",
       "      <td>{'tag': 'College fees per credit in ACS', 'pat...</td>\n",
       "    </tr>\n",
       "    <tr>\n",
       "      <th>24</th>\n",
       "      <td>{'tag': 'Rankings and Reputation', 'patterns':...</td>\n",
       "    </tr>\n",
       "    <tr>\n",
       "      <th>25</th>\n",
       "      <td>{'tag': 'Academic Transcripts', 'patterns': ['...</td>\n",
       "    </tr>\n",
       "    <tr>\n",
       "      <th>26</th>\n",
       "      <td>{'tag': 'Duration of MS-ACS', 'patterns': ['Wh...</td>\n",
       "    </tr>\n",
       "  </tbody>\n",
       "</table>\n",
       "</div>"
      ],
      "text/plain": [
       "                                              intents\n",
       "0   {'tag': 'Welcome', 'patterns': ['just going to...\n",
       "1   {'tag': 'FallBack', 'patterns': ['', '', '', '...\n",
       "2   {'tag': 'CourseOverview', 'patterns': ['Tell m...\n",
       "3   {'tag': 'ACSProfessors', 'patterns': ['Provide...\n",
       "4   {'tag': 'Assistance for graduates ', 'patterns...\n",
       "5   {'tag': 'CreditHours', 'patterns': ['How many ...\n",
       "6   {'tag': 'TuitionFee', 'patterns': ['Is there a...\n",
       "7   {'tag': 'Intakes', 'patterns': ['How many inta...\n",
       "8   {'tag': 'ACSCourses', 'patterns': ['What are t...\n",
       "9   {'tag': 'Electives', 'patterns': ['Are there a...\n",
       "10  {'tag': 'Prerequisites', 'patterns': ['Are the...\n",
       "11  {'tag': 'RequiredGPA', 'patterns': ['What is t...\n",
       "12  {'tag': 'DeadlinesForSpringIntake', 'patterns'...\n",
       "13  {'tag': 'DeadlinesForFallIntake', 'patterns': ...\n",
       "14  {'tag': 'DeadlinesForSummerIntake', 'patterns'...\n",
       "15  {'tag': 'OnCampusJobs', 'patterns': ['Can you ...\n",
       "16  {'tag': 'JobPlacementRate', 'patterns': ['What...\n",
       "17  {'tag': 'CS/IS International Graduate Achievem...\n",
       "18  {'tag': 'Student-Faculty Ratio', 'patterns': [...\n",
       "19  {'tag': 'Admission Crietria', 'patterns': ['Wh...\n",
       "20  {'tag': 'Wellness Center', 'patterns': ['Is th...\n",
       "21  {'tag': 'Standardized test score requirements'...\n",
       "22  {'tag': 'specialized tools for coursework? ', ...\n",
       "23  {'tag': 'College fees per credit in ACS', 'pat...\n",
       "24  {'tag': 'Rankings and Reputation', 'patterns':...\n",
       "25  {'tag': 'Academic Transcripts', 'patterns': ['...\n",
       "26  {'tag': 'Duration of MS-ACS', 'patterns': ['Wh..."
      ]
     },
     "execution_count": 12,
     "metadata": {},
     "output_type": "execute_result"
    }
   ],
   "source": [
    "intents"
   ]
  },
  {
   "cell_type": "code",
   "execution_count": 13,
   "id": "9b6ebd41-3474-4549-827a-f304522b2367",
   "metadata": {},
   "outputs": [
    {
     "name": "stdout",
     "output_type": "stream",
     "text": [
      "{'tag': 'FallBack', 'patterns': ['', '', '', '', '', '', '', '', '', '', '', '', '', '', '', '', '', '', '', '', '', ''], 'responses': [\"I didn't get that. Can you say it again?\", 'Sorry, could you say that again?', \"Sorry, I didn't get that. Can you rephrase?\", 'I missed that, say that again?']}\n"
     ]
    }
   ],
   "source": [
    "# Find the intent with the \"Fallback\" tag\n",
    "fallback_intent = None\n",
    "for intent in intents['intents']:\n",
    "    if intent['tag'] == 'FallBack':\n",
    "        fallback_intent = intent\n",
    "        break\n",
    "\n",
    "# Print the Fallback intent\n",
    "print(fallback_intent)"
   ]
  },
  {
   "cell_type": "markdown",
   "id": "ee36906e-bec3-439e-80ca-1eee822cd275",
   "metadata": {},
   "source": [
    "<h4>Data Preprocessing</h4>"
   ]
  },
  {
   "cell_type": "code",
   "execution_count": 14,
   "id": "ee511940-95b6-4e8b-8be1-98f70185c7a4",
   "metadata": {},
   "outputs": [
    {
     "name": "stderr",
     "output_type": "stream",
     "text": [
      "[nltk_data] Downloading package punkt to\n",
      "[nltk_data]     C:\\Users\\s559891\\AppData\\Roaming\\nltk_data...\n",
      "[nltk_data]   Package punkt is already up-to-date!\n",
      "[nltk_data] Downloading package wordnet to\n",
      "[nltk_data]     C:\\Users\\s559891\\AppData\\Roaming\\nltk_data...\n",
      "[nltk_data]   Package wordnet is already up-to-date!\n",
      "[nltk_data] Downloading package gutenberg to\n",
      "[nltk_data]     C:\\Users\\s559891\\AppData\\Roaming\\nltk_data...\n",
      "[nltk_data]   Package gutenberg is already up-to-date!\n"
     ]
    },
    {
     "data": {
      "text/plain": [
       "True"
      ]
     },
     "execution_count": 14,
     "metadata": {},
     "output_type": "execute_result"
    }
   ],
   "source": [
    "# preprocessing the json data\n",
    "# tokenization\n",
    "nltk.download('punkt')\n",
    "nltk.download('wordnet')\n",
    "nltk.download('gutenberg')"
   ]
  },
  {
   "cell_type": "markdown",
   "id": "2089816c-95d1-4890-99ba-923526aa2dfc",
   "metadata": {},
   "source": [
    "## Corpus"
   ]
  },
  {
   "cell_type": "code",
   "execution_count": 15,
   "id": "5578fbe8-62a9-43eb-8d5a-582a119c65c8",
   "metadata": {},
   "outputs": [
    {
     "data": {
      "text/plain": [
       "['austen-emma.txt',\n",
       " 'austen-persuasion.txt',\n",
       " 'austen-sense.txt',\n",
       " 'bible-kjv.txt',\n",
       " 'blake-poems.txt',\n",
       " 'bryant-stories.txt',\n",
       " 'burgess-busterbrown.txt',\n",
       " 'carroll-alice.txt',\n",
       " 'chesterton-ball.txt',\n",
       " 'chesterton-brown.txt',\n",
       " 'chesterton-thursday.txt',\n",
       " 'edgeworth-parents.txt',\n",
       " 'melville-moby_dick.txt',\n",
       " 'milton-paradise.txt',\n",
       " 'shakespeare-caesar.txt',\n",
       " 'shakespeare-hamlet.txt',\n",
       " 'shakespeare-macbeth.txt',\n",
       " 'whitman-leaves.txt']"
      ]
     },
     "execution_count": 15,
     "metadata": {},
     "output_type": "execute_result"
    }
   ],
   "source": [
    "import nltk\n",
    "nltk.corpus.gutenberg.fileids()"
   ]
  },
  {
   "cell_type": "code",
   "execution_count": 16,
   "id": "b520aa69-2e82-4188-b609-26d182a18ab1",
   "metadata": {},
   "outputs": [
    {
     "data": {
      "text/plain": [
       "192427"
      ]
     },
     "execution_count": 16,
     "metadata": {},
     "output_type": "execute_result"
    }
   ],
   "source": [
    " emma = nltk.corpus.gutenberg.words('austen-emma.txt')\n",
    "len(emma)"
   ]
  },
  {
   "cell_type": "markdown",
   "id": "fe7935f1-51c5-49d7-8592-9b385aa56477",
   "metadata": {},
   "source": [
    "## Wordnet"
   ]
  },
  {
   "cell_type": "code",
   "execution_count": 17,
   "id": "3116ca47-8eee-4167-9329-7b2675416def",
   "metadata": {},
   "outputs": [
    {
     "name": "stdout",
     "output_type": "stream",
     "text": [
      "Synset name :  hours.n.01\n",
      "\n",
      "Synset meaning :  a period of time assigned for work\n",
      "\n",
      "Synset example :  ['they work long hours']\n",
      "\n",
      "Syn tag :  n\n"
     ]
    }
   ],
   "source": [
    "\n",
    "from nltk.corpus import wordnet\n",
    "syn = wordnet.synsets('hours')[0]\n",
    "\n",
    "print (\"Synset name : \", syn.name())\n",
    "\n",
    "# Defining the word\n",
    "print (\"\\nSynset meaning : \", syn.definition())\n",
    "\n",
    "# list of phrases that use the word in context\n",
    "print (\"\\nSynset example : \", syn.examples())\n",
    "\n",
    "#3 : Part of Speech (POS) in Synset. \n",
    "print (\"\\nSyn tag : \", syn.pos())\n"
   ]
  },
  {
   "cell_type": "code",
   "execution_count": 18,
   "id": "4dc4f165-b620-4aed-a505-6fcd411a7405",
   "metadata": {},
   "outputs": [
    {
     "name": "stdout",
     "output_type": "stream",
     "text": [
      "[Synset('hello.n.01')]\n",
      "Examples: ['every morning they exchanged polite hellos']\n",
      "\n"
     ]
    }
   ],
   "source": [
    "hello_synsets = wordnet.synsets('hello')\n",
    "print(hello_synsets)\n",
    "\n",
    "for synset in hello_synsets:\n",
    "    #print(\"Synset Name:\", synset.name())\n",
    "    #print(\"Definition:\", synset.definition())\n",
    "    print(\"Examples:\", synset.examples())\n",
    "    print()"
   ]
  },
  {
   "cell_type": "markdown",
   "id": "36631315-120c-45f9-8544-7246385cfa77",
   "metadata": {},
   "source": [
    "## punkt"
   ]
  },
  {
   "cell_type": "code",
   "execution_count": 19,
   "id": "86552a65-0283-4803-b4ec-e284c178a288",
   "metadata": {},
   "outputs": [
    {
     "name": "stdout",
     "output_type": "stream",
     "text": [
      "['This is a sample sentence.', 'And here is another one!']\n"
     ]
    },
    {
     "name": "stderr",
     "output_type": "stream",
     "text": [
      "[nltk_data] Downloading package punkt to\n",
      "[nltk_data]     C:\\Users\\s559891\\AppData\\Roaming\\nltk_data...\n",
      "[nltk_data]   Package punkt is already up-to-date!\n"
     ]
    }
   ],
   "source": [
    "import nltk\n",
    "from nltk.tokenize import PunktSentenceTokenizer\n",
    "\n",
    "# Download the Punkt tokenizer model for English\n",
    "nltk.download('punkt')\n",
    "\n",
    "# Sample text\n",
    "text = \"This is a sample sentence. And here is another one!\"\n",
    "\n",
    "# Create a Punkt tokenizer\n",
    "punkt_tokenizer = PunktSentenceTokenizer()\n",
    "\n",
    "# Tokenize the text into sentences\n",
    "sentences = punkt_tokenizer.tokenize(text)\n",
    "\n",
    "# Print the result\n",
    "print(sentences)\n"
   ]
  },
  {
   "cell_type": "code",
   "execution_count": 20,
   "id": "dede6c7f-ed79-4c5b-9e62-602ebb45b0ef",
   "metadata": {},
   "outputs": [],
   "source": [
    "for intent in intents['intents']:\n",
    "    for pattern in intent['patterns']:\n",
    "\n",
    "        #tokenize each word\n",
    "        w = nltk.word_tokenize(pattern)\n",
    "        words.extend(w)\n",
    "        #add documents in the corpus\n",
    "        documents.append((w, intent['tag']))\n",
    "\n",
    "        # add to our classes list\n",
    "        if intent['tag'] not in classes:\n",
    "            classes.append(intent['tag'])"
   ]
  },
  {
   "cell_type": "code",
   "execution_count": 21,
   "id": "a2528001-f837-4433-a6fd-f9513384217b",
   "metadata": {},
   "outputs": [
    {
     "data": {
      "text/plain": [
       "list"
      ]
     },
     "execution_count": 21,
     "metadata": {},
     "output_type": "execute_result"
    }
   ],
   "source": [
    "type(documents)"
   ]
  },
  {
   "cell_type": "code",
   "execution_count": 22,
   "id": "7244d87d-73c3-4101-8df2-3e8cecca6b05",
   "metadata": {},
   "outputs": [
    {
     "data": {
      "text/plain": [
       "list"
      ]
     },
     "execution_count": 22,
     "metadata": {},
     "output_type": "execute_result"
    }
   ],
   "source": [
    "type(classes)"
   ]
  },
  {
   "cell_type": "code",
   "execution_count": 23,
   "id": "9a2efb45-feff-40c7-8650-ecf73be00c3c",
   "metadata": {},
   "outputs": [
    {
     "name": "stdout",
     "output_type": "stream",
     "text": [
      "358 documents\n",
      "27 classes ['ACSCourses', 'ACSProfessors', 'Academic Transcripts', 'Admission Crietria', 'Assistance for graduates ', 'CS/IS International Graduate Achievement Scholarship', 'College fees per credit in ACS', 'CourseOverview', 'CreditHours', 'DeadlinesForFallIntake', 'DeadlinesForSpringIntake', 'DeadlinesForSummerIntake', 'Duration of MS-ACS', 'Electives', 'FallBack', 'Intakes', 'JobPlacementRate', 'OnCampusJobs', 'Prerequisites', 'Rankings and Reputation', 'RequiredGPA', 'Standardized test score requirements', 'Student-Faculty Ratio', 'TuitionFee', 'Welcome', 'Wellness Center', 'specialized tools for coursework? ']\n",
      "420 unique lemmatized words [\"'d\", \"'m\", \"'s\", ',', '.', ';', 'a', 'about', 'ac', 'academic', 'acceptable', 'accepts', 'access', 'achieve', 'achievement', 'achieving', 'additional', 'admission', 'advanced', 'after', 'again', 'aid', 'allowed', 'am', 'among', 'an', 'and', 'anticipated', 'any', 'applicant', 'application', 'applied', 'apply', 'applying', 'are', 'area', 'assistance', 'assitance', 'at', 'attaining', 'availability', 'available', 'average', 'background', 'basis', 'be', 'benchmark', 'beyond', 'break', 'budgeting', 'by', 'calculating', 'campus', 'can', 'candidate', 'capacity', 'career', 'carry', 'catalog', 'center', 'certain', 'charge', 'check', 'choice', 'clarify', 'class', 'classroom', 'close', 'closing', 'college', 'commitment', 'community', 'comparison', 'complete', 'completed', 'completing', 'completion', 'component', 'computer', 'condition', 'consider', 'considered', 'content', 'contingent', 'contribute', 'cost', 'could', 'counseling', 'course', 'coursework', 'covered', 'credit', 'criterion', 'cs/is', 'curious', 'current', 'curriculum', 'cutoff', 'cycle', 'data', 'date', 'day', 'deadline', 'decision', 'degree', 'department', 'describe', 'detail', 'differ', 'do', 'document', 'doe', 'down', 'due', 'duration', 'during', 'each', 'earn', 'earning', 'educator', 'elective', 'eligibility', 'employ', 'employee', 'employment', 'end', 'english', 'enrolling', 'enrollment', 'entail', 'entrance', 'entry', 'entry-level', 'essential', 'estimate', 'estimated', 'event', 'everything', 'expectation', 'expected', 'expense', 'explain', 'facility', 'faculty', 'fair', 'fall', 'fee', 'final', 'financial', 'find', 'finish', 'follow', 'for', 'frame', 'fulfill', 'gain', 'gaining', 'general', 'get', 'give', 'gmat', 'go', 'going', 'good', 'gpa', 'grade', 'graduate', 'graduation', 'gre', 'greet', 'greeting', 'guidance', 'ha', 'have', 'health', 'health-center', 'healthcare', 'hello', 'help', 'hey', 'heya', 'hi', 'hire', 'hola', 'hour', 'how', 'howdy', 'hy', 'hyy', 'i', 'if', 'in', 'in-state', 'included', 'inform', 'information', 'initiative', 'inquire', 'insight', 'installment', 'institution', 'instructor', 'instructor-student', 'intake', 'interested', 'international', 'into', 'is', 'it', 'job', 'joining', 'just', 'kind', 'know', 'knowing', 'language', 'last', 'learn', 'lecture', 'lecturer', 'length', 'letter', 'light', 'like', 'lineup', 'list', 'location', 'long', 'looking', 'lovely', 'm', 'm.s', 'make', 'managing', 'mandate', 'many', 'master', 'may', 'me', 'meet', 'meeting', 'member', 'minimum', 'missouri', 'more', 'ms-acs', 'much', 'multiple', 'must', 'my', \"n't\", 'name', 'nature', 'navigating', 'necessary', 'necessitates', 'need', 'needed', 'no', 'northwest', 'number', 'obtain', 'of', 'offer', 'offered', 'offering', 'office', 'offset', 'on', 'on-campus', 'opening', 'opportunity', 'option', 'or', 'other', 'our', 'out-of-state', 'outline', 'overall', 'overview', 'part', 'payment', 'per', 'per-credit', 'percentage', 'period', 'placement', 'plan', 'planning', 'please', 'position', 'possibility', 'possible', 'preparation', 'prerequisite', 'prescribed', 'present', 'price', 'process', 'professional', 'professor', 'proficiency', 'program', 'prospect', 'prospective', 'provide', 'provided', 'purpose', 'pursuing', 'qualification', 'quota', 'range', 'ranked', 'ranking', 'rate', 'ratio', 'receive', 'recent', 'recommendation', 'regarding', 'reputation', 'require', 'required', 'requirement', 'resource', 'responsible', 'review', 'rundown', 'say', 'schedule', 'scholarship', 'school', 'science', 'score', 'see', 'select', 'selection', 'semester', 'service', 'several', 'share', 'shed', 'shortly', 'should', 'size', 'so', 'software', 'some', 'specialized', 'specific', 'specified', 'specify', 'spring', 'staff', 'standard', 'standardized', 'standing', 'state', 'statement', 'status', 'step', 'student', 'student-faculty', 'student-to-faculty', 'study', 'subject', 'submit', 'submitting', 'successful', 'such', 'summary', 'summer', 'take', 'teach', 'teaching', 'tell', 'term', 'test', 'that', 'the', 'their', 'there', 'they', 'this', 'threshold', 'time', 'to', 'tool', 'total', 'transcript', 'tuition', 'tuitionfee', 'type', 'typical', 'typically', 'university', 'up', 'upon', 'use', 'usually', 'various', 'viewing', 'vital', 'want', 'weight', 'wellness', 'what', 'when', 'where', 'which', 'who', 'will', 'with', 'within', 'work', 'work-study', 'would', 'year', 'you', 'your']\n"
     ]
    }
   ],
   "source": [
    "# lemmatize, lower each word and remove duplicates\n",
    "\n",
    "words = [lemmatizer.lemmatize(w.lower()) for w in words if w not in ignore_words]\n",
    "words = sorted(list(set(words)))\n",
    "\n",
    "# sort classes\n",
    "classes = sorted(list(set(classes)))\n",
    "\n",
    "# documents = combination between patterns and intents\n",
    "print (len(documents), \"documents\")\n",
    "\n",
    "# classes = intents\n",
    "print (len(classes), \"classes\", classes)\n",
    "\n",
    "# words = all words, vocabulary\n",
    "print (len(words), \"unique lemmatized words\", words)\n",
    "\n",
    "# creating a pickle file to store the Python objects which we will use while predicting\n",
    "pickle.dump(words,open('words.pkl','wb')) \n",
    "pickle.dump(classes,open('classes.pkl','wb'))"
   ]
  },
  {
   "cell_type": "markdown",
   "id": "68bab95c-c60a-4ad3-9a4a-5645a45e9034",
   "metadata": {},
   "source": [
    "<h4>Creating Training Data</h4>"
   ]
  },
  {
   "cell_type": "code",
   "execution_count": 24,
   "id": "89c0cb84-6c06-4937-8a9d-ccb0a1533d63",
   "metadata": {},
   "outputs": [
    {
     "name": "stdout",
     "output_type": "stream",
     "text": [
      "Training data created\n"
     ]
    }
   ],
   "source": [
    "# create our training data\n",
    "training = []\n",
    "\n",
    "# create an empty array for our output\n",
    "output_empty = [0] * len(classes)\n",
    "\n",
    "# training set, bag of words for each sentence\n",
    "for doc in documents:\n",
    "    # initialize our bag of words\n",
    "    bag = []\n",
    "    # list of tokenized words for the pattern\n",
    "    pattern_words = doc[0]\n",
    "   \n",
    "    # lemmatize each word - create base word, in attempt to represent related words\n",
    "    pattern_words = [lemmatizer.lemmatize(word.lower()) for word in pattern_words]\n",
    "    \n",
    "    # create our bag of words array with 1, if word match found in current pattern\n",
    "    for w in words:\n",
    "        bag.append(1) if w in pattern_words else bag.append(0)\n",
    "    # output is a '0' for each tag and '1' for current tag (for each pattern)\n",
    "    output_row = list(output_empty)\n",
    "    output_row[classes.index(doc[1])] = 1\n",
    "    training.append([bag, output_row])\n",
    "\n",
    "# shuffle features and converting it into numpy arrays\n",
    "random.shuffle(training)\n",
    "training = np.array(training,dtype=list)\n",
    "\n",
    "# create train and test lists\n",
    "train_x = list(training[:,0])\n",
    "train_y = list(training[:,1])\n",
    "\n",
    "print(\"Training data created\")"
   ]
  },
  {
   "cell_type": "code",
   "execution_count": 25,
   "id": "22159520-1910-44d5-a68f-fedc33a9fa32",
   "metadata": {},
   "outputs": [
    {
     "data": {
      "text/plain": [
       "numpy.ndarray"
      ]
     },
     "execution_count": 25,
     "metadata": {},
     "output_type": "execute_result"
    }
   ],
   "source": [
    "type(training)"
   ]
  },
  {
   "cell_type": "code",
   "execution_count": 26,
   "id": "75e5fb12-41f1-4a40-a6f6-29105889c54a",
   "metadata": {},
   "outputs": [
    {
     "data": {
      "text/plain": [
       "716"
      ]
     },
     "execution_count": 26,
     "metadata": {},
     "output_type": "execute_result"
    }
   ],
   "source": [
    "training.size"
   ]
  },
  {
   "cell_type": "code",
   "execution_count": 27,
   "id": "66650449-46b2-49d0-a1ba-bfb789781093",
   "metadata": {},
   "outputs": [
    {
     "data": {
      "text/plain": [
       "27"
      ]
     },
     "execution_count": 27,
     "metadata": {},
     "output_type": "execute_result"
    }
   ],
   "source": [
    "len(train_y[1])"
   ]
  },
  {
   "cell_type": "markdown",
   "id": "648a5c18-2b71-44d2-9d67-15684a5ae089",
   "metadata": {},
   "source": [
    "<h4>Creating NN Neural network Model</h4> "
   ]
  },
  {
   "cell_type": "code",
   "execution_count": 28,
   "id": "c3ec30cc-1ab0-44ba-851f-ef863901b54a",
   "metadata": {},
   "outputs": [
    {
     "name": "stdout",
     "output_type": "stream",
     "text": [
      "WARNING:tensorflow:From C:\\Users\\s559891\\AppData\\Local\\Programs\\Python\\Python311\\Lib\\site-packages\\keras\\src\\backend.py:873: The name tf.get_default_graph is deprecated. Please use tf.compat.v1.get_default_graph instead.\n",
      "\n",
      "Epoch 1/200\n",
      "WARNING:tensorflow:From C:\\Users\\s559891\\AppData\\Local\\Programs\\Python\\Python311\\Lib\\site-packages\\keras\\src\\utils\\tf_utils.py:492: The name tf.ragged.RaggedTensorValue is deprecated. Please use tf.compat.v1.ragged.RaggedTensorValue instead.\n",
      "\n",
      "WARNING:tensorflow:From C:\\Users\\s559891\\AppData\\Local\\Programs\\Python\\Python311\\Lib\\site-packages\\keras\\src\\engine\\base_layer_utils.py:384: The name tf.executing_eagerly_outside_functions is deprecated. Please use tf.compat.v1.executing_eagerly_outside_functions instead.\n",
      "\n",
      "72/72 [==============================] - 3s 5ms/step - loss: 3.2446 - accuracy: 0.0726\n",
      "Epoch 2/200\n",
      "72/72 [==============================] - 0s 3ms/step - loss: 2.8963 - accuracy: 0.1592\n",
      "Epoch 3/200\n",
      "72/72 [==============================] - 0s 3ms/step - loss: 2.4736 - accuracy: 0.3017\n",
      "Epoch 4/200\n",
      "72/72 [==============================] - 0s 4ms/step - loss: 2.0260 - accuracy: 0.4106\n",
      "Epoch 5/200\n",
      "72/72 [==============================] - 0s 4ms/step - loss: 1.6595 - accuracy: 0.5112\n",
      "Epoch 6/200\n",
      "72/72 [==============================] - 0s 4ms/step - loss: 1.3901 - accuracy: 0.5670\n",
      "Epoch 7/200\n",
      "72/72 [==============================] - 0s 4ms/step - loss: 1.0716 - accuracy: 0.6564\n",
      "Epoch 8/200\n",
      "72/72 [==============================] - 0s 4ms/step - loss: 1.0467 - accuracy: 0.6620\n",
      "Epoch 9/200\n",
      "72/72 [==============================] - 0s 4ms/step - loss: 0.9397 - accuracy: 0.6816\n",
      "Epoch 10/200\n",
      "72/72 [==============================] - 0s 4ms/step - loss: 0.8510 - accuracy: 0.7346\n",
      "Epoch 11/200\n",
      "72/72 [==============================] - 0s 4ms/step - loss: 0.6656 - accuracy: 0.7933\n",
      "Epoch 12/200\n",
      "72/72 [==============================] - 0s 3ms/step - loss: 0.6861 - accuracy: 0.7682\n",
      "Epoch 13/200\n",
      "72/72 [==============================] - 0s 4ms/step - loss: 0.4783 - accuracy: 0.8547\n",
      "Epoch 14/200\n",
      "72/72 [==============================] - 0s 3ms/step - loss: 0.5665 - accuracy: 0.8212\n",
      "Epoch 15/200\n",
      "72/72 [==============================] - 0s 4ms/step - loss: 0.5282 - accuracy: 0.8408\n",
      "Epoch 16/200\n",
      "72/72 [==============================] - 0s 4ms/step - loss: 0.4747 - accuracy: 0.8492\n",
      "Epoch 17/200\n",
      "72/72 [==============================] - 0s 4ms/step - loss: 0.3538 - accuracy: 0.8911\n",
      "Epoch 18/200\n",
      "72/72 [==============================] - 0s 3ms/step - loss: 0.3767 - accuracy: 0.8827\n",
      "Epoch 19/200\n",
      "72/72 [==============================] - 0s 3ms/step - loss: 0.3272 - accuracy: 0.9050\n",
      "Epoch 20/200\n",
      "72/72 [==============================] - 0s 4ms/step - loss: 0.3881 - accuracy: 0.8687\n",
      "Epoch 21/200\n",
      "72/72 [==============================] - 0s 4ms/step - loss: 0.3237 - accuracy: 0.8966\n",
      "Epoch 22/200\n",
      "72/72 [==============================] - 0s 3ms/step - loss: 0.3396 - accuracy: 0.8855\n",
      "Epoch 23/200\n",
      "72/72 [==============================] - 0s 3ms/step - loss: 0.3174 - accuracy: 0.9050\n",
      "Epoch 24/200\n",
      "72/72 [==============================] - 0s 4ms/step - loss: 0.2222 - accuracy: 0.9246\n",
      "Epoch 25/200\n",
      "72/72 [==============================] - 0s 4ms/step - loss: 0.3277 - accuracy: 0.8911\n",
      "Epoch 26/200\n",
      "72/72 [==============================] - 0s 4ms/step - loss: 0.2832 - accuracy: 0.9246\n",
      "Epoch 27/200\n",
      "72/72 [==============================] - 0s 3ms/step - loss: 0.2496 - accuracy: 0.9218\n",
      "Epoch 28/200\n",
      "72/72 [==============================] - 0s 4ms/step - loss: 0.2353 - accuracy: 0.9190\n",
      "Epoch 29/200\n",
      "72/72 [==============================] - 0s 4ms/step - loss: 0.2415 - accuracy: 0.9190\n",
      "Epoch 30/200\n",
      "72/72 [==============================] - 0s 4ms/step - loss: 0.1944 - accuracy: 0.9385\n",
      "Epoch 31/200\n",
      "72/72 [==============================] - 0s 4ms/step - loss: 0.2437 - accuracy: 0.9218\n",
      "Epoch 32/200\n",
      "72/72 [==============================] - 0s 4ms/step - loss: 0.3135 - accuracy: 0.9078\n",
      "Epoch 33/200\n",
      "72/72 [==============================] - 0s 4ms/step - loss: 0.1794 - accuracy: 0.9609\n",
      "Epoch 34/200\n",
      "72/72 [==============================] - 0s 4ms/step - loss: 0.2834 - accuracy: 0.8966\n",
      "Epoch 35/200\n",
      "72/72 [==============================] - 0s 4ms/step - loss: 0.2809 - accuracy: 0.9022\n",
      "Epoch 36/200\n",
      "72/72 [==============================] - 0s 4ms/step - loss: 0.1808 - accuracy: 0.9525\n",
      "Epoch 37/200\n",
      "72/72 [==============================] - 0s 4ms/step - loss: 0.1639 - accuracy: 0.9441\n",
      "Epoch 38/200\n",
      "72/72 [==============================] - 0s 4ms/step - loss: 0.1885 - accuracy: 0.9413\n",
      "Epoch 39/200\n",
      "72/72 [==============================] - 0s 4ms/step - loss: 0.1756 - accuracy: 0.9469\n",
      "Epoch 40/200\n",
      "72/72 [==============================] - 0s 4ms/step - loss: 0.1606 - accuracy: 0.9497\n",
      "Epoch 41/200\n",
      "72/72 [==============================] - 0s 4ms/step - loss: 0.1498 - accuracy: 0.9553\n",
      "Epoch 42/200\n",
      "72/72 [==============================] - 0s 3ms/step - loss: 0.1736 - accuracy: 0.9358\n",
      "Epoch 43/200\n",
      "72/72 [==============================] - 0s 4ms/step - loss: 0.1782 - accuracy: 0.9413\n",
      "Epoch 44/200\n",
      "72/72 [==============================] - 0s 4ms/step - loss: 0.1441 - accuracy: 0.9637\n",
      "Epoch 45/200\n",
      "72/72 [==============================] - 0s 4ms/step - loss: 0.1122 - accuracy: 0.9693\n",
      "Epoch 46/200\n",
      "72/72 [==============================] - 0s 4ms/step - loss: 0.1262 - accuracy: 0.9693\n",
      "Epoch 47/200\n",
      "72/72 [==============================] - 0s 4ms/step - loss: 0.1472 - accuracy: 0.9637\n",
      "Epoch 48/200\n",
      "72/72 [==============================] - 0s 4ms/step - loss: 0.1478 - accuracy: 0.9581\n",
      "Epoch 49/200\n",
      "72/72 [==============================] - 0s 4ms/step - loss: 0.1232 - accuracy: 0.9665\n",
      "Epoch 50/200\n",
      "72/72 [==============================] - 0s 3ms/step - loss: 0.1532 - accuracy: 0.9525\n",
      "Epoch 51/200\n",
      "72/72 [==============================] - 0s 3ms/step - loss: 0.1373 - accuracy: 0.9665\n",
      "Epoch 52/200\n",
      "72/72 [==============================] - 0s 4ms/step - loss: 0.1771 - accuracy: 0.9413\n",
      "Epoch 53/200\n",
      "72/72 [==============================] - 0s 4ms/step - loss: 0.1882 - accuracy: 0.9385\n",
      "Epoch 54/200\n",
      "72/72 [==============================] - 0s 4ms/step - loss: 0.1660 - accuracy: 0.9497\n",
      "Epoch 55/200\n",
      "72/72 [==============================] - 0s 3ms/step - loss: 0.1185 - accuracy: 0.9637\n",
      "Epoch 56/200\n",
      "72/72 [==============================] - 0s 4ms/step - loss: 0.1178 - accuracy: 0.9693\n",
      "Epoch 57/200\n",
      "72/72 [==============================] - 0s 3ms/step - loss: 0.1255 - accuracy: 0.9637\n",
      "Epoch 58/200\n",
      "72/72 [==============================] - 0s 3ms/step - loss: 0.1154 - accuracy: 0.9665\n",
      "Epoch 59/200\n",
      "72/72 [==============================] - 0s 4ms/step - loss: 0.1228 - accuracy: 0.9609\n",
      "Epoch 60/200\n",
      "72/72 [==============================] - 0s 4ms/step - loss: 0.1680 - accuracy: 0.9497\n",
      "Epoch 61/200\n",
      "72/72 [==============================] - 0s 4ms/step - loss: 0.1065 - accuracy: 0.9637\n",
      "Epoch 62/200\n",
      "72/72 [==============================] - 0s 4ms/step - loss: 0.1283 - accuracy: 0.9553\n",
      "Epoch 63/200\n",
      "72/72 [==============================] - 0s 4ms/step - loss: 0.1358 - accuracy: 0.9525\n",
      "Epoch 64/200\n",
      "72/72 [==============================] - 0s 4ms/step - loss: 0.1286 - accuracy: 0.9553\n",
      "Epoch 65/200\n",
      "72/72 [==============================] - 0s 4ms/step - loss: 0.1022 - accuracy: 0.9637\n",
      "Epoch 66/200\n",
      "72/72 [==============================] - 0s 4ms/step - loss: 0.1181 - accuracy: 0.9637\n",
      "Epoch 67/200\n",
      "72/72 [==============================] - 0s 4ms/step - loss: 0.1050 - accuracy: 0.9693\n",
      "Epoch 68/200\n",
      "72/72 [==============================] - 0s 4ms/step - loss: 0.1149 - accuracy: 0.9721\n",
      "Epoch 69/200\n",
      "72/72 [==============================] - 0s 4ms/step - loss: 0.1180 - accuracy: 0.9609\n",
      "Epoch 70/200\n",
      "72/72 [==============================] - 0s 4ms/step - loss: 0.1317 - accuracy: 0.9721\n",
      "Epoch 71/200\n",
      "72/72 [==============================] - 0s 4ms/step - loss: 0.1306 - accuracy: 0.9581\n",
      "Epoch 72/200\n",
      "72/72 [==============================] - 0s 4ms/step - loss: 0.1009 - accuracy: 0.9721\n",
      "Epoch 73/200\n",
      "72/72 [==============================] - 0s 4ms/step - loss: 0.0957 - accuracy: 0.9721\n",
      "Epoch 74/200\n",
      "72/72 [==============================] - 0s 3ms/step - loss: 0.0957 - accuracy: 0.9693\n",
      "Epoch 75/200\n",
      "72/72 [==============================] - 0s 4ms/step - loss: 0.0903 - accuracy: 0.9693\n",
      "Epoch 76/200\n",
      "72/72 [==============================] - 0s 4ms/step - loss: 0.1332 - accuracy: 0.9581\n",
      "Epoch 77/200\n",
      "72/72 [==============================] - 0s 3ms/step - loss: 0.1285 - accuracy: 0.9469\n",
      "Epoch 78/200\n",
      "72/72 [==============================] - 0s 3ms/step - loss: 0.0755 - accuracy: 0.9749\n",
      "Epoch 79/200\n",
      "72/72 [==============================] - 0s 4ms/step - loss: 0.0812 - accuracy: 0.9749\n",
      "Epoch 80/200\n",
      "72/72 [==============================] - 0s 4ms/step - loss: 0.0979 - accuracy: 0.9721\n",
      "Epoch 81/200\n",
      "72/72 [==============================] - 0s 4ms/step - loss: 0.1005 - accuracy: 0.9693\n",
      "Epoch 82/200\n",
      "72/72 [==============================] - 0s 4ms/step - loss: 0.1255 - accuracy: 0.9665\n",
      "Epoch 83/200\n",
      "72/72 [==============================] - 0s 4ms/step - loss: 0.1063 - accuracy: 0.9637\n",
      "Epoch 84/200\n",
      "72/72 [==============================] - 0s 3ms/step - loss: 0.1244 - accuracy: 0.9665\n",
      "Epoch 85/200\n",
      "72/72 [==============================] - 0s 4ms/step - loss: 0.1147 - accuracy: 0.9525\n",
      "Epoch 86/200\n",
      "72/72 [==============================] - 0s 4ms/step - loss: 0.0856 - accuracy: 0.9721\n",
      "Epoch 87/200\n",
      "72/72 [==============================] - 0s 4ms/step - loss: 0.1122 - accuracy: 0.9553\n",
      "Epoch 88/200\n",
      "72/72 [==============================] - 0s 4ms/step - loss: 0.0920 - accuracy: 0.9749\n",
      "Epoch 89/200\n",
      "72/72 [==============================] - 0s 4ms/step - loss: 0.0785 - accuracy: 0.9749\n",
      "Epoch 90/200\n",
      "72/72 [==============================] - 0s 4ms/step - loss: 0.1035 - accuracy: 0.9581\n",
      "Epoch 91/200\n",
      "72/72 [==============================] - 0s 4ms/step - loss: 0.0708 - accuracy: 0.9777\n",
      "Epoch 92/200\n",
      "72/72 [==============================] - 0s 4ms/step - loss: 0.1266 - accuracy: 0.9581\n",
      "Epoch 93/200\n",
      "72/72 [==============================] - 0s 4ms/step - loss: 0.1032 - accuracy: 0.9693\n",
      "Epoch 94/200\n",
      "72/72 [==============================] - 0s 4ms/step - loss: 0.0739 - accuracy: 0.9777\n",
      "Epoch 95/200\n",
      "72/72 [==============================] - 0s 4ms/step - loss: 0.2019 - accuracy: 0.9441\n",
      "Epoch 96/200\n",
      "72/72 [==============================] - 0s 4ms/step - loss: 0.1353 - accuracy: 0.9385\n",
      "Epoch 97/200\n",
      "72/72 [==============================] - 0s 4ms/step - loss: 0.0884 - accuracy: 0.9721\n",
      "Epoch 98/200\n",
      "72/72 [==============================] - 0s 4ms/step - loss: 0.0967 - accuracy: 0.9665\n",
      "Epoch 99/200\n",
      "72/72 [==============================] - 0s 4ms/step - loss: 0.0759 - accuracy: 0.9777\n",
      "Epoch 100/200\n",
      "72/72 [==============================] - 0s 4ms/step - loss: 0.1082 - accuracy: 0.9721\n",
      "Epoch 101/200\n",
      "72/72 [==============================] - 0s 4ms/step - loss: 0.1143 - accuracy: 0.9637\n",
      "Epoch 102/200\n",
      "72/72 [==============================] - 0s 4ms/step - loss: 0.0820 - accuracy: 0.9749\n",
      "Epoch 103/200\n",
      "72/72 [==============================] - 0s 4ms/step - loss: 0.0965 - accuracy: 0.9637\n",
      "Epoch 104/200\n",
      "72/72 [==============================] - 0s 3ms/step - loss: 0.1053 - accuracy: 0.9553\n",
      "Epoch 105/200\n",
      "72/72 [==============================] - 0s 4ms/step - loss: 0.0969 - accuracy: 0.9721\n",
      "Epoch 106/200\n",
      "72/72 [==============================] - 0s 4ms/step - loss: 0.0792 - accuracy: 0.9637\n",
      "Epoch 107/200\n",
      "72/72 [==============================] - 0s 4ms/step - loss: 0.0569 - accuracy: 0.9860\n",
      "Epoch 108/200\n",
      "72/72 [==============================] - 0s 4ms/step - loss: 0.1041 - accuracy: 0.9721\n",
      "Epoch 109/200\n",
      "72/72 [==============================] - 0s 3ms/step - loss: 0.0919 - accuracy: 0.9721\n",
      "Epoch 110/200\n",
      "72/72 [==============================] - 0s 3ms/step - loss: 0.0652 - accuracy: 0.9888\n",
      "Epoch 111/200\n",
      "72/72 [==============================] - 0s 4ms/step - loss: 0.1173 - accuracy: 0.9665\n",
      "Epoch 112/200\n",
      "72/72 [==============================] - 0s 3ms/step - loss: 0.1060 - accuracy: 0.9749\n",
      "Epoch 113/200\n",
      "72/72 [==============================] - 0s 4ms/step - loss: 0.0730 - accuracy: 0.9721\n",
      "Epoch 114/200\n",
      "72/72 [==============================] - 0s 4ms/step - loss: 0.1224 - accuracy: 0.9553\n",
      "Epoch 115/200\n",
      "72/72 [==============================] - 0s 3ms/step - loss: 0.0737 - accuracy: 0.9860\n",
      "Epoch 116/200\n",
      "72/72 [==============================] - 0s 4ms/step - loss: 0.0865 - accuracy: 0.9832\n",
      "Epoch 117/200\n",
      "72/72 [==============================] - 0s 4ms/step - loss: 0.0698 - accuracy: 0.9804\n",
      "Epoch 118/200\n",
      "72/72 [==============================] - 0s 4ms/step - loss: 0.0594 - accuracy: 0.9749\n",
      "Epoch 119/200\n",
      "72/72 [==============================] - 0s 3ms/step - loss: 0.0641 - accuracy: 0.9832\n",
      "Epoch 120/200\n",
      "72/72 [==============================] - 0s 4ms/step - loss: 0.0974 - accuracy: 0.9665\n",
      "Epoch 121/200\n",
      "72/72 [==============================] - 0s 4ms/step - loss: 0.0918 - accuracy: 0.9749\n",
      "Epoch 122/200\n",
      "72/72 [==============================] - 0s 3ms/step - loss: 0.0814 - accuracy: 0.9693\n",
      "Epoch 123/200\n",
      "72/72 [==============================] - 0s 4ms/step - loss: 0.0596 - accuracy: 0.9832\n",
      "Epoch 124/200\n",
      "72/72 [==============================] - 0s 4ms/step - loss: 0.0767 - accuracy: 0.9665\n",
      "Epoch 125/200\n",
      "72/72 [==============================] - 0s 3ms/step - loss: 0.1147 - accuracy: 0.9609\n",
      "Epoch 126/200\n",
      "72/72 [==============================] - 0s 4ms/step - loss: 0.0775 - accuracy: 0.9804\n",
      "Epoch 127/200\n",
      "72/72 [==============================] - 0s 4ms/step - loss: 0.0951 - accuracy: 0.9665\n",
      "Epoch 128/200\n",
      "72/72 [==============================] - 0s 4ms/step - loss: 0.0852 - accuracy: 0.9777\n",
      "Epoch 129/200\n",
      "72/72 [==============================] - 0s 4ms/step - loss: 0.0702 - accuracy: 0.9777\n",
      "Epoch 130/200\n",
      "72/72 [==============================] - 0s 4ms/step - loss: 0.0834 - accuracy: 0.9749\n",
      "Epoch 131/200\n",
      "72/72 [==============================] - 0s 4ms/step - loss: 0.1544 - accuracy: 0.9665\n",
      "Epoch 132/200\n",
      "72/72 [==============================] - 0s 4ms/step - loss: 0.0769 - accuracy: 0.9777\n",
      "Epoch 133/200\n",
      "72/72 [==============================] - 0s 4ms/step - loss: 0.1012 - accuracy: 0.9721\n",
      "Epoch 134/200\n",
      "72/72 [==============================] - 0s 3ms/step - loss: 0.1057 - accuracy: 0.9665\n",
      "Epoch 135/200\n",
      "72/72 [==============================] - 0s 4ms/step - loss: 0.0977 - accuracy: 0.9721\n",
      "Epoch 136/200\n",
      "72/72 [==============================] - 0s 4ms/step - loss: 0.0691 - accuracy: 0.9777\n",
      "Epoch 137/200\n",
      "72/72 [==============================] - 0s 3ms/step - loss: 0.0766 - accuracy: 0.9693\n",
      "Epoch 138/200\n",
      "72/72 [==============================] - 0s 4ms/step - loss: 0.0620 - accuracy: 0.9693\n",
      "Epoch 139/200\n",
      "72/72 [==============================] - 0s 4ms/step - loss: 0.0554 - accuracy: 0.9888\n",
      "Epoch 140/200\n",
      "72/72 [==============================] - 0s 3ms/step - loss: 0.0510 - accuracy: 0.9860\n",
      "Epoch 141/200\n",
      "72/72 [==============================] - 0s 3ms/step - loss: 0.0713 - accuracy: 0.9749\n",
      "Epoch 142/200\n",
      "72/72 [==============================] - 0s 4ms/step - loss: 0.0953 - accuracy: 0.9693\n",
      "Epoch 143/200\n",
      "72/72 [==============================] - 0s 3ms/step - loss: 0.0621 - accuracy: 0.9777\n",
      "Epoch 144/200\n",
      "72/72 [==============================] - 0s 3ms/step - loss: 0.0715 - accuracy: 0.9832\n",
      "Epoch 145/200\n",
      "72/72 [==============================] - 0s 4ms/step - loss: 0.0655 - accuracy: 0.9777\n",
      "Epoch 146/200\n",
      "72/72 [==============================] - 0s 4ms/step - loss: 0.0764 - accuracy: 0.9665\n",
      "Epoch 147/200\n",
      "72/72 [==============================] - 0s 4ms/step - loss: 0.0850 - accuracy: 0.9665\n",
      "Epoch 148/200\n",
      "72/72 [==============================] - 0s 4ms/step - loss: 0.0696 - accuracy: 0.9721\n",
      "Epoch 149/200\n",
      "72/72 [==============================] - 0s 4ms/step - loss: 0.0530 - accuracy: 0.9804\n",
      "Epoch 150/200\n",
      "72/72 [==============================] - 0s 3ms/step - loss: 0.0817 - accuracy: 0.9693\n",
      "Epoch 151/200\n",
      "72/72 [==============================] - 0s 4ms/step - loss: 0.0959 - accuracy: 0.9581\n",
      "Epoch 152/200\n",
      "72/72 [==============================] - 0s 4ms/step - loss: 0.0956 - accuracy: 0.9721\n",
      "Epoch 153/200\n",
      "72/72 [==============================] - 0s 4ms/step - loss: 0.0724 - accuracy: 0.9777\n",
      "Epoch 154/200\n",
      "72/72 [==============================] - 0s 4ms/step - loss: 0.1181 - accuracy: 0.9609\n",
      "Epoch 155/200\n",
      "72/72 [==============================] - 0s 4ms/step - loss: 0.0616 - accuracy: 0.9777\n",
      "Epoch 156/200\n",
      "72/72 [==============================] - 0s 4ms/step - loss: 0.0640 - accuracy: 0.9721\n",
      "Epoch 157/200\n",
      "72/72 [==============================] - 0s 4ms/step - loss: 0.0669 - accuracy: 0.9777\n",
      "Epoch 158/200\n",
      "72/72 [==============================] - 0s 4ms/step - loss: 0.0601 - accuracy: 0.9749\n",
      "Epoch 159/200\n",
      "72/72 [==============================] - 0s 4ms/step - loss: 0.0407 - accuracy: 0.9916\n",
      "Epoch 160/200\n",
      "72/72 [==============================] - 0s 3ms/step - loss: 0.0480 - accuracy: 0.9832\n",
      "Epoch 161/200\n",
      "72/72 [==============================] - 0s 3ms/step - loss: 0.0924 - accuracy: 0.9721\n",
      "Epoch 162/200\n",
      "72/72 [==============================] - 0s 3ms/step - loss: 0.0679 - accuracy: 0.9749\n",
      "Epoch 163/200\n",
      "72/72 [==============================] - 0s 4ms/step - loss: 0.0695 - accuracy: 0.9804\n",
      "Epoch 164/200\n",
      "72/72 [==============================] - 0s 4ms/step - loss: 0.1336 - accuracy: 0.9665\n",
      "Epoch 165/200\n",
      "72/72 [==============================] - 0s 4ms/step - loss: 0.0594 - accuracy: 0.9777\n",
      "Epoch 166/200\n",
      "72/72 [==============================] - 0s 4ms/step - loss: 0.0776 - accuracy: 0.9804\n",
      "Epoch 167/200\n",
      "72/72 [==============================] - 0s 3ms/step - loss: 0.1252 - accuracy: 0.9609\n",
      "Epoch 168/200\n",
      "72/72 [==============================] - 0s 4ms/step - loss: 0.1179 - accuracy: 0.9665\n",
      "Epoch 169/200\n",
      "72/72 [==============================] - 0s 4ms/step - loss: 0.0916 - accuracy: 0.9721\n",
      "Epoch 170/200\n",
      "72/72 [==============================] - 0s 3ms/step - loss: 0.0613 - accuracy: 0.9777\n",
      "Epoch 171/200\n",
      "72/72 [==============================] - 0s 3ms/step - loss: 0.0797 - accuracy: 0.9777\n",
      "Epoch 172/200\n",
      "72/72 [==============================] - 0s 4ms/step - loss: 0.0647 - accuracy: 0.9804\n",
      "Epoch 173/200\n",
      "72/72 [==============================] - 0s 3ms/step - loss: 0.1565 - accuracy: 0.9609\n",
      "Epoch 174/200\n",
      "72/72 [==============================] - 0s 3ms/step - loss: 0.0793 - accuracy: 0.9777\n",
      "Epoch 175/200\n",
      "72/72 [==============================] - 0s 3ms/step - loss: 0.0597 - accuracy: 0.9777\n",
      "Epoch 176/200\n",
      "72/72 [==============================] - 0s 4ms/step - loss: 0.0561 - accuracy: 0.9804\n",
      "Epoch 177/200\n",
      "72/72 [==============================] - 0s 3ms/step - loss: 0.0944 - accuracy: 0.9777\n",
      "Epoch 178/200\n",
      "72/72 [==============================] - 0s 3ms/step - loss: 0.0855 - accuracy: 0.9777\n",
      "Epoch 179/200\n",
      "72/72 [==============================] - 0s 4ms/step - loss: 0.0343 - accuracy: 0.9888\n",
      "Epoch 180/200\n",
      "72/72 [==============================] - 0s 4ms/step - loss: 0.1398 - accuracy: 0.9637\n",
      "Epoch 181/200\n",
      "72/72 [==============================] - 0s 4ms/step - loss: 0.0994 - accuracy: 0.9721\n",
      "Epoch 182/200\n",
      "72/72 [==============================] - 0s 3ms/step - loss: 0.0507 - accuracy: 0.9777\n",
      "Epoch 183/200\n",
      "72/72 [==============================] - 0s 3ms/step - loss: 0.1189 - accuracy: 0.9637\n",
      "Epoch 184/200\n",
      "72/72 [==============================] - 0s 4ms/step - loss: 0.0449 - accuracy: 0.9860\n",
      "Epoch 185/200\n",
      "72/72 [==============================] - 0s 4ms/step - loss: 0.0849 - accuracy: 0.9832\n",
      "Epoch 186/200\n",
      "72/72 [==============================] - 0s 3ms/step - loss: 0.0777 - accuracy: 0.9721\n",
      "Epoch 187/200\n",
      "72/72 [==============================] - 0s 3ms/step - loss: 0.0804 - accuracy: 0.9777\n",
      "Epoch 188/200\n",
      "72/72 [==============================] - 0s 3ms/step - loss: 0.1020 - accuracy: 0.9721\n",
      "Epoch 189/200\n",
      "72/72 [==============================] - 0s 3ms/step - loss: 0.0446 - accuracy: 0.9832\n",
      "Epoch 190/200\n",
      "72/72 [==============================] - 0s 2ms/step - loss: 0.0980 - accuracy: 0.9665\n",
      "Epoch 191/200\n",
      "72/72 [==============================] - 0s 3ms/step - loss: 0.0608 - accuracy: 0.9832\n",
      "Epoch 192/200\n",
      "72/72 [==============================] - 0s 3ms/step - loss: 0.0473 - accuracy: 0.9749\n",
      "Epoch 193/200\n",
      "72/72 [==============================] - 0s 3ms/step - loss: 0.0502 - accuracy: 0.9860\n",
      "Epoch 194/200\n",
      "72/72 [==============================] - 0s 3ms/step - loss: 0.0657 - accuracy: 0.9749\n",
      "Epoch 195/200\n",
      "72/72 [==============================] - 0s 3ms/step - loss: 0.0641 - accuracy: 0.9777\n",
      "Epoch 196/200\n",
      "72/72 [==============================] - 0s 3ms/step - loss: 0.0470 - accuracy: 0.9777\n",
      "Epoch 197/200\n",
      "72/72 [==============================] - 0s 4ms/step - loss: 0.0846 - accuracy: 0.9693\n",
      "Epoch 198/200\n",
      "72/72 [==============================] - 0s 3ms/step - loss: 0.0323 - accuracy: 0.9916\n",
      "Epoch 199/200\n",
      "72/72 [==============================] - 0s 3ms/step - loss: 0.0465 - accuracy: 0.9860\n",
      "Epoch 200/200\n",
      "72/72 [==============================] - 0s 4ms/step - loss: 0.0946 - accuracy: 0.9665\n",
      "\n",
      "\n",
      "**************************************************\n",
      "\n",
      "Model Created Successfully!\n"
     ]
    }
   ],
   "source": [
    "# Create NN model to predict the responses\n",
    "#try  new models\n",
    "model = Sequential()\n",
    "model.add(Dense(128, input_shape=(len(train_x[0]),), activation='relu'))\n",
    "\n",
    "#Dropout is used to prevent overfitting by randomly deactivating a fraction of neurons during training.\n",
    "model.add(Dropout(0.5))\n",
    "model.add(Dense(64, activation='relu'))\n",
    "model.add(Dropout(0.5))\n",
    "model.add(Dense(len(train_y[0]), activation='softmax'))\n",
    "\n",
    "#Low confidence threshold\n",
    "\n",
    "\n",
    "# Compile model. Stochastic gradient descent with Nesterov accelerated gradient gives good results for this model\n",
    "sgd = SGD(learning_rate=0.01, decay=1e-6, momentum=0.9, nesterov=True)\n",
    "model.compile(loss='categorical_crossentropy', optimizer=sgd, metrics=['accuracy'])\n",
    "\n",
    "#fitting and saving the model \n",
    "hist = model.fit(np.array(train_x), np.array(train_y), epochs=200, batch_size=5, verbose=1)\n",
    "model.save('chatbot.h5', hist) # we will pickle this model to use in the future\n",
    "print(\"\\n\")\n",
    "print(\"*\"*50)\n",
    "print(\"\\nModel Created Successfully!\")"
   ]
  },
  {
   "cell_type": "markdown",
   "id": "d0b10563-e1e1-4f4e-8190-8115fec2d982",
   "metadata": {},
   "source": [
    "<h3>2. Creating LSTM-based model</h3>"
   ]
  },
  {
   "cell_type": "code",
   "execution_count": 29,
   "id": "4057b6cb-a0bf-4033-ae71-1756181e3ede",
   "metadata": {},
   "outputs": [
    {
     "data": {
      "text/plain": [
       "\"import tensorflow as tf\\nfrom tensorflow.keras.models import Sequential\\nfrom tensorflow.keras.layers import Dense, Embedding, LSTM, Dropout\\n\\n# Define LSTM Model\\nmodel_lstm = Sequential()\\n\\n# Input Embedding layer\\nmodel_lstm.add(Embedding(input_dim=len(words), output_dim=128, input_length=len(train_x[0])))\\n\\n# LSTM layer\\nmodel_lstm.add(LSTM(128))\\n\\n# Dropout for regularization\\nmodel_lstm.add(Dropout(0.5))\\n\\n# Output Dense layer with Softmax activation for classification\\nmodel_lstm.add(Dense(len(train_y[0]), activation='softmax'))\\n\\n# Compile the model\\nmodel_lstm.compile(loss='categorical_crossentropy', optimizer='adam', metrics=['accuracy'])\\n\\n# Train the model\\nmodel_lstm.fit(np.array(train_x), np.array(train_y), epochs=10, batch_size=5, verbose=1)\""
      ]
     },
     "execution_count": 29,
     "metadata": {},
     "output_type": "execute_result"
    }
   ],
   "source": [
    "'''import tensorflow as tf\n",
    "from tensorflow.keras.models import Sequential\n",
    "from tensorflow.keras.layers import Dense, Embedding, LSTM, Dropout\n",
    "\n",
    "# Define LSTM Model\n",
    "model_lstm = Sequential()\n",
    "\n",
    "# Input Embedding layer\n",
    "model_lstm.add(Embedding(input_dim=len(words), output_dim=128, input_length=len(train_x[0])))\n",
    "\n",
    "# LSTM layer\n",
    "model_lstm.add(LSTM(128))\n",
    "\n",
    "# Dropout for regularization\n",
    "model_lstm.add(Dropout(0.5))\n",
    "\n",
    "# Output Dense layer with Softmax activation for classification\n",
    "model_lstm.add(Dense(len(train_y[0]), activation='softmax'))\n",
    "\n",
    "# Compile the model\n",
    "model_lstm.compile(loss='categorical_crossentropy', optimizer='adam', metrics=['accuracy'])\n",
    "\n",
    "# Train the model\n",
    "model_lstm.fit(np.array(train_x), np.array(train_y), epochs=10, batch_size=5, verbose=1)'''"
   ]
  },
  {
   "cell_type": "markdown",
   "id": "ea2ed22a-1695-4e92-93ae-8ca9478665d1",
   "metadata": {},
   "source": [
    "<h3>3. Transformer-based Model</h3>"
   ]
  },
  {
   "cell_type": "code",
   "execution_count": 30,
   "id": "6f27021f-6e1b-4a11-b7a8-9cac95551097",
   "metadata": {},
   "outputs": [
    {
     "data": {
      "text/plain": [
       "\"from tensorflow.keras.layers import MultiHeadAttention, GlobalAveragePooling1D, Flatten\\n\\n# Define Transformer Model\\nmodel_transformer = Sequential()\\n\\n# Input Embedding layer\\nmodel_transformer.add(Embedding(input_dim=len(words), output_dim=128, input_length=len(train_x[0])))\\n\\n# MultiHeadAttention layer\\nmodel_transformer.add(MultiHeadAttention(num_heads=4, key_dim=128))\\n\\n# Flatten or Pooling layer\\nmodel_transformer.add(GlobalAveragePooling1D())\\n\\n# Dropout for regularization\\nmodel_transformer.add(Dropout(0.5))\\n\\n# Output Dense layer with Softmax activation for classification\\nmodel_transformer.add(Dense(len(train_y[0]), activation='softmax'))\\n\\n# Compile the model\\nmodel_transformer.compile(loss='categorical_crossentropy', optimizer='adam', metrics=['accuracy'])\\n\\n# Train the model\\nmodel_transformer.fit(np.array(train_x), np.array(train_y), epochs=10, batch_size=5, verbose=1)\""
      ]
     },
     "execution_count": 30,
     "metadata": {},
     "output_type": "execute_result"
    }
   ],
   "source": [
    "'''from tensorflow.keras.layers import MultiHeadAttention, GlobalAveragePooling1D, Flatten\n",
    "\n",
    "# Define Transformer Model\n",
    "model_transformer = Sequential()\n",
    "\n",
    "# Input Embedding layer\n",
    "model_transformer.add(Embedding(input_dim=len(words), output_dim=128, input_length=len(train_x[0])))\n",
    "\n",
    "# MultiHeadAttention layer\n",
    "model_transformer.add(MultiHeadAttention(num_heads=4, key_dim=128))\n",
    "\n",
    "# Flatten or Pooling layer\n",
    "model_transformer.add(GlobalAveragePooling1D())\n",
    "\n",
    "# Dropout for regularization\n",
    "model_transformer.add(Dropout(0.5))\n",
    "\n",
    "# Output Dense layer with Softmax activation for classification\n",
    "model_transformer.add(Dense(len(train_y[0]), activation='softmax'))\n",
    "\n",
    "# Compile the model\n",
    "model_transformer.compile(loss='categorical_crossentropy', optimizer='adam', metrics=['accuracy'])\n",
    "\n",
    "# Train the model\n",
    "model_transformer.fit(np.array(train_x), np.array(train_y), epochs=10, batch_size=5, verbose=1)'''\n"
   ]
  },
  {
   "cell_type": "code",
   "execution_count": 31,
   "id": "31a27de5-2236-43af-a59e-c1ee9de53137",
   "metadata": {},
   "outputs": [],
   "source": [
    "# load the saved model file\n",
    "model = load_model('chatbot.h5')\n",
    "#intents = json.loads(open(r'C:\\Users\\s559891\\OneDrive - nwmissouri.edu\\Documents\\Z_GDP\\jupyter\\data.json').read())\n",
    "intents = pd.read_json(data_file)\n",
    "words = pickle.load(open('words.pkl','rb'))\n",
    "classes = pickle.load(open('classes.pkl','rb'))"
   ]
  },
  {
   "cell_type": "code",
   "execution_count": 32,
   "id": "f67f4a5d-4f71-459d-ab14-14fb094ae971",
   "metadata": {},
   "outputs": [],
   "source": [
    "def clean_up_sentence(sentence):\n",
    "\n",
    "    # tokenize the pattern - split words into array\n",
    "    sentence_words = nltk.word_tokenize(sentence)\n",
    "    \n",
    "    # stem each word - create short form for word\n",
    "    sentence_words = [lemmatizer.lemmatize(word.lower()) for word in sentence_words]\n",
    "    return sentence_words\n",
    "\n",
    "\n",
    "# return bag of words array: 0 or 1 for each word in the bag that exists in the sentence\n",
    "\n",
    "def bow(sentence, words, show_details=True):\n",
    "\n",
    "    # tokenize the pattern\n",
    "    sentence_words = clean_up_sentence(sentence)\n",
    "\n",
    "    # bag of words - matrix of N words, vocabulary matrix\n",
    "    bag = [0]*len(words) \n",
    "    for s in sentence_words:\n",
    "        for i,w in enumerate(words):\n",
    "            if w == s: \n",
    "               \n",
    "                # assign 1 if current word is in the vocabulary position\n",
    "                bag[i] = 1\n",
    "                if show_details:\n",
    "                    print (\"found in bag: %s\" % w)\n",
    "    return(np.array(bag))\n",
    "\n",
    "def predict_class(sentence, model):\n",
    "    p = bow(sentence, words, show_details=False)\n",
    "    res = model.predict(np.array([p]))[0]\n",
    "    #print(\"p:\", p)  # Print the bag of words\n",
    "    #print(\"res:\", res)  # Print the model's predictions\n",
    "\n",
    "    #error = 0.25\n",
    "    error = 0.1\n",
    "    results = [[i, r] for i, r in enumerate(res) if r > error]\n",
    "    \n",
    "    # Print the results\n",
    "    #print(\"results:\", results)\n",
    "    \n",
    "    # sort by strength of probability\n",
    "    results.sort(key=lambda x: x[1], reverse=True)\n",
    "    return_list = []\n",
    "    \n",
    "    for r in results:\n",
    "        return_list.append({\"intent\": classes[r[0]], \"probability\": str(r[1])})\n",
    "    return return_list\n"
   ]
  },
  {
   "cell_type": "code",
   "execution_count": 33,
   "id": "6c5d927d-7a8d-45a2-8af5-d44b53c900f4",
   "metadata": {},
   "outputs": [],
   "source": [
    "def getResponse(ints, intents_json):\n",
    "    tag = ints[0]['intent']\n",
    "    list_of_intents = intents_json['intents']\n",
    "    for i in list_of_intents:\n",
    "        if i['tag'] == tag:\n",
    "            result = random.choice(i['responses'])\n",
    "            return result\n",
    "\n",
    "    '''# If the intent is not found, use the FallBack intent\n",
    "    fallback_intent = None\n",
    "    for intent in list_of_intents:\n",
    "        if intent['tag'] == 'FallBack':\n",
    "            fallback_intent = intent\n",
    "            break\n",
    "\n",
    "    result = random.choice(fallback_intent['responses'])\n",
    "    return result'''\n",
    "\n",
    "'''def chatbot_response(text):\n",
    "    ints = predict_class(text, model)\n",
    "    res = getResponse(ints, intents)\n",
    "    return res'''\n",
    "\n",
    "CONFIDENCE_THRESHOLD = 0.5\n",
    "\n",
    "def get_fallback_intent(intents_json):\n",
    "    for intent in intents_json['intents']:\n",
    "        if intent['tag'] == 'FallBack':\n",
    "            return intent\n",
    "    return None  # Return None if no fallback intent is found.\n",
    "\n",
    "def chatbot_response(text):\n",
    "    ints = predict_class(text, model)\n",
    "\n",
    "    if not ints or float(ints[0][\"probability\"]) < CONFIDENCE_THRESHOLD:\n",
    "        # Trigger the Fallback intent\n",
    "        fallback_intent = get_fallback_intent(intents)\n",
    "        if fallback_intent:  # Ensure that the fallback_intent is not None\n",
    "            response = random.choice(fallback_intent['responses'])\n",
    "        else:\n",
    "            response = \"Sorry, I didn't understand that.\"  # Default message if no fallback intent is found\n",
    "    else:\n",
    "        response = getResponse(ints, intents)\n",
    "\n",
    "    return response\n",
    "\n",
    "\n"
   ]
  },
  {
   "cell_type": "code",
   "execution_count": 34,
   "id": "73dab51d-1ea5-43ce-8d85-01c66ab64db1",
   "metadata": {},
   "outputs": [],
   "source": [
    "# function to start the chat bot which will continue till the user type 'end'\n",
    "\n",
    "def start_chat():\n",
    "    print(\"Bot: This is MS-ACS Chatbot, Your Personal Assistant.\\n\\n\")\n",
    "    while True:\n",
    "        inp = str(input()).lower()\n",
    "        if inp.lower()==\"end\":\n",
    "            break\n",
    "        if inp.lower()== '' or inp.lower()== '*':\n",
    "            print('Please re-phrase your query!')\n",
    "            print(\"-\"*50)\n",
    "        else:\n",
    "            print(f\"Bot: {chatbot_response(inp)}\"+'\\n')\n",
    "            print(\"-\"*50)"
   ]
  },
  {
   "cell_type": "markdown",
   "id": "8ee3b7c3-b80f-47b6-a3ce-30f7508aa9a1",
   "metadata": {},
   "source": [
    "## Command Line Interface"
   ]
  },
  {
   "cell_type": "code",
   "execution_count": null,
   "id": "20a98675-2985-4503-9006-57856e00b4e5",
   "metadata": {},
   "outputs": [
    {
     "name": "stdout",
     "output_type": "stream",
     "text": [
      "Bot: This is MS-ACS Chatbot, Your Personal Assistant.\n",
      "\n",
      "\n"
     ]
    },
    {
     "name": "stdout",
     "output_type": "stream",
     "text": [
      " hi\n"
     ]
    },
    {
     "name": "stdout",
     "output_type": "stream",
     "text": [
      "1/1 [==============================] - 0s 272ms/step\n",
      "Bot: Hello! How's your well-being?\n",
      "\n",
      "--------------------------------------------------\n"
     ]
    },
    {
     "name": "stdout",
     "output_type": "stream",
     "text": [
      " tell me about the course overview\n"
     ]
    },
    {
     "name": "stdout",
     "output_type": "stream",
     "text": [
      "1/1 [==============================] - 0s 56ms/step\n",
      "Bot: Northwest Missouri State University's Master of Science in Applied Computer Science program, completed in just 16 months, delivers a hands-on, industry-relevant education in areas with significant job opportunities.\n",
      "\n",
      "--------------------------------------------------\n"
     ]
    }
   ],
   "source": [
    "start_chat()"
   ]
  },
  {
   "cell_type": "markdown",
   "id": "e0209151-04ab-4dbb-aa59-66efcee0ede5",
   "metadata": {},
   "source": [
    "<h4>Chatting with BOT using the Tkinter App</h4>"
   ]
  },
  {
   "cell_type": "code",
   "execution_count": null,
   "id": "44f8eac7-2177-4f7e-8da0-88608b956c26",
   "metadata": {},
   "outputs": [],
   "source": [
    "import tkinter as tk\n",
    "from tkinter import *\n",
    "from datetime import datetime\n",
    "import requests\n",
    "import sqlite3\n",
    "\n",
    "# Create a session\n",
    "session = requests.Session()\n",
    "\n",
    "# Create a new SQLite database for chat history\n",
    "chat_conn = sqlite3.connect(\"chat_history.db\")\n",
    "chat_cursor = chat_conn.cursor()\n",
    "\n",
    "# Create a chat history table if it doesn't exist\n",
    "chat_cursor.execute('''\n",
    "    CREATE TABLE IF NOT EXISTS chat_history (\n",
    "        id INTEGER PRIMARY KEY,\n",
    "        user_message TEXT,\n",
    "        bot_response TEXT,\n",
    "        timestamp TEXT\n",
    "    )\n",
    "''')\n",
    "\n",
    "# Commit the changes and close the connection\n",
    "chat_conn.commit()\n",
    "chat_conn.close()\n",
    "\n",
    "\n",
    "\n",
    "\n",
    "\n",
    "def send_msz(event=None):\n",
    "    usr_input = message.get()\n",
    "    usr_input = usr_input.lower()\n",
    "\n",
    "    # Insert user query on the right side with a different tag\n",
    "    textcon.insert(END, f'You: {usr_input}\\n', 'user_query')\n",
    "\n",
    "    if usr_input in exit_list:\n",
    "        textcon.insert(END, \"Bot: Ok bye! Chat with you later\\n\", 'chatbot_response')\n",
    "        textcon.see(\"end\")\n",
    "        return root.destroy()\n",
    "    else:\n",
    "        lab = f\"Bot: {chatbot_response(usr_input)}\\n\\n\"\n",
    "\n",
    "        # Insert chatbot response on the left side with a different tag\n",
    "        textcon.insert(END, lab, 'chatbot_response')\n",
    "        textcon.see(\"end\")\n",
    "        mes_win.delete(0, END)\n",
    "\n",
    "\n",
    "def save_chat_history(user_message, bot_response):\n",
    "    chat_conn = sqlite3.connect(\"chat_history.db\")\n",
    "    chat_cursor = chat_conn.cursor()\n",
    "\n",
    "    # Insert chat history data into the chat history table\n",
    "    chat_cursor.execute(\"INSERT INTO chat_history (user_message, bot_response, timestamp) VALUES (?, ?, ?)\",\n",
    "                       (user_message, bot_response, str(datetime.now())))\n",
    "\n",
    "    # Commit the changes and close the connection\n",
    "    chat_conn.commit()\n",
    "    chat_conn.close()\n",
    "\n",
    "\n",
    "def scroll_chat(direction):\n",
    "    textcon.yview_scroll(direction, \"units\")\n",
    "\n",
    "\n",
    "# Connect to the SQLite database or create a new one if it doesn't exist\n",
    "conn = sqlite3.connect(\"feedback.db\")\n",
    "\n",
    "# Create a cursor object\n",
    "cursor = conn.cursor()\n",
    "\n",
    "# Create a feedback table if it doesn't exist\n",
    "cursor.execute('''\n",
    "    CREATE TABLE IF NOT EXISTS feedback (\n",
    "        id INTEGER PRIMARY KEY,\n",
    "        name TEXT,\n",
    "        email TEXT,\n",
    "        feedback TEXT,\n",
    "        submission_date TEXT\n",
    "    )\n",
    "''')\n",
    "\n",
    "# Commit the changes and close the connection\n",
    "conn.commit()\n",
    "conn.close()\n",
    "\n",
    "\n",
    "\n",
    "# Declare feedback_window as a global variable\n",
    "feedback_window = None\n",
    "\n",
    "def open_feedback_form():\n",
    "    \n",
    "    global feedback_window  # Declare feedback_window as a global variable\n",
    "    feedback_window = Toplevel(root)\n",
    "    feedback_window.title(\"Feedback Form\")\n",
    "\n",
    "    # Create labels and entry fields for feedback form\n",
    "    label_name = Label(feedback_window, text=\"Name:\")\n",
    "    label_name.pack()\n",
    "    entry_name = Entry(feedback_window)\n",
    "    entry_name.pack()\n",
    "\n",
    "    label_email = Label(feedback_window, text=\"Email:\")\n",
    "    label_email.pack()\n",
    "    entry_email = Entry(feedback_window)\n",
    "    entry_email.pack()\n",
    "\n",
    "    label_feedback = Label(feedback_window, text=\"Feedback:\")\n",
    "    label_feedback.pack()\n",
    "    text_feedback = Text(feedback_window, height=5, width=30)\n",
    "    text_feedback.pack()\n",
    "\n",
    "    submit_button = Button(feedback_window, text=\"Submit\", command=lambda: save_feedback(entry_name.get(), entry_email.get(), text_feedback.get(\"1.0\", END)))\n",
    "    submit_button.pack()\n",
    "\n",
    "    feedback_window.mainloop()\n",
    "\n",
    "\n",
    "\n",
    "\n",
    "\n",
    "'''def save_feedback(name, email, feedback):\n",
    "    feedback_data = f\"Name: {name}\\nEmail: {email}\\nFeedback: {feedback}\\nSubmission Date: {datetime.now()}\\n\\n\"\n",
    "\n",
    "    # Save the feedback data to a local file\n",
    "    with open(\"feedback.txt\", \"a\") as file:\n",
    "        file.write(feedback_data)\n",
    "\n",
    "    # Provide a confirmation message\n",
    "    print(\"Feedback saved locally.\")\n",
    "\n",
    "    # Close the feedback form window\n",
    "    feedback_window.destroy()'''\n",
    "\n",
    "def save_feedback(name, email, feedback):\n",
    "    # Connect to the SQLite database\n",
    "    conn = sqlite3.connect(\"feedback.db\")\n",
    "    cursor = conn.cursor()\n",
    "\n",
    "    # Insert feedback data into the feedback table\n",
    "    cursor.execute(\"INSERT INTO feedback (name, email, feedback, submission_date) VALUES (?, ?, ?, ?)\",(name, email, feedback, str(datetime.now())))\n",
    "    # Commit the changes and close the connection\n",
    "    conn.commit()\n",
    "    conn.close()\n",
    "\n",
    "    print(\"Feedback saved to the database successfully.\")\n",
    "\n",
    "    # Close the feedback form window\n",
    "    feedback_window.destroy()\n",
    "\n",
    "\n",
    "\n",
    "   \n",
    "\n",
    "root = tk.Tk()\n",
    "root.title(\"MS-Applied Computer Science Chatbot Project\")\n",
    "root.geometry(\"500x400\")\n",
    "root.resizable(False, False)\n",
    "\n",
    "chat_win = Frame(root, bd=1, bg=\"white\", width=50, height=8)\n",
    "chat_win.place(x=6, y=6, height=300, width=488)\n",
    "\n",
    "canvas = Canvas(chat_win, bd=0, bg=\"white\", highlightthickness=0)\n",
    "canvas.pack(side=\"left\", fill=\"both\", expand=True)\n",
    "\n",
    "vsb = Scrollbar(chat_win, orient=\"vertical\", command=scroll_chat)\n",
    "vsb.pack(side=\"right\", fill=\"y\")\n",
    "\n",
    "up_button = Button(chat_win, text=\"▲\", command=lambda: scroll_chat(-1), width=2, height=1)\n",
    "up_button.pack(side=\"top\")\n",
    "\n",
    "down_button = Button(chat_win, text=\"▼\", command=lambda: scroll_chat(1), width=2, height=1)\n",
    "down_button.pack(side=\"bottom\")\n",
    "\n",
    "canvas.configure(yscrollcommand=vsb.set)\n",
    "canvas.bind(\"<Configure>\", lambda e: canvas.configure(scrollregion=canvas.bbox(\"all\")))\n",
    "\n",
    "textcon = Text(canvas, bd=0, bg=\"white\", width=50, height=8)\n",
    "textcon.pack(fill=\"both\", expand=True)\n",
    "\n",
    "message = tk.StringVar()\n",
    "\n",
    "mes_win = Entry(root, width=30, xscrollcommand=True, textvariable=message)\n",
    "mes_win.place(x=6, y=310, height=60, width=380)\n",
    "mes_win.focus()\n",
    "\n",
    "# Define tag configurations for user queries and chatbot responses\n",
    "textcon.tag_config(\"user_query\", justify=\"right\", foreground=\"blue\")\n",
    "textcon.tag_config(\"chatbot_response\", justify=\"left\", foreground=\"green\")\n",
    "\n",
    "exit_list = [\"exit\", \"break\", \"quit\", \"see you later\", \"chat with you later\", \"end the chat\", \"bye\", \"ok bye\", \"end\"]\n",
    "\n",
    "button_send = Button(root, text='Send', bg='dark green', activebackground='grey', command=send_msz, width=12, height=5, font=('Arial'))\n",
    "button_send.place(x=376, y=310, height=60, width=110)\n",
    "\n",
    "button_feedback = Button(root, text='Feedback', command=open_feedback_form)\n",
    "button_feedback.place(x=6, y=370, height=30, width=110)\n",
    "\n",
    "root.bind('<Return>', send_msz)\n",
    "\n",
    "root.mainloop()\n"
   ]
  },
  {
   "cell_type": "code",
   "execution_count": null,
   "id": "77afb032-df46-4002-ab8c-5916387bd7a3",
   "metadata": {},
   "outputs": [],
   "source": []
  },
  {
   "cell_type": "markdown",
   "id": "7107ca5c-e7b3-4b15-b027-d618ede5ff04",
   "metadata": {},
   "source": [
    "<h3>Using FLASK for Web Interface</h3>"
   ]
  },
  {
   "cell_type": "code",
   "execution_count": null,
   "id": "79771825-cebf-4491-9d64-3759754df2f5",
   "metadata": {},
   "outputs": [],
   "source": [
    "pip install flask"
   ]
  },
  {
   "cell_type": "code",
   "execution_count": null,
   "id": "6814dbd0-0a37-4486-8893-55301f791168",
   "metadata": {},
   "outputs": [],
   "source": [
    "from flask import Flask, render_template, request, jsonify\n",
    "import sqlite3\n",
    "\n",
    "# Flask is running this project using its built-in development server\n",
    "\n",
    "app = Flask(__name__)\n",
    "\n",
    "# Assuming chatbot_response is defined elsewhere and properly imported\n",
    "#from your_chatbot_module import chatbot_response  # Replace with the actual import\n",
    "\n",
    "@app.route('/')\n",
    "def index():\n",
    "    return render_template('index.html')\n",
    "\n",
    "@app.route('/ask', methods=['POST'])\n",
    "def ask():\n",
    "    message = request.form['messageText']\n",
    "    response = chatbot_response(message)  # Ensure this function is defined in your chatbot module\n",
    "    return jsonify({'status':'OK','answer':response})\n",
    "\n",
    "@app.route('/submit_feedback', methods=['POST'])\n",
    "def submit_feedback():\n",
    "    name = request.form['name']\n",
    "    email = request.form['email']\n",
    "    feedback = request.form['feedback']\n",
    "    \n",
    "    # Here you would add validation and sanitization of the data\n",
    "\n",
    "    # Connect to the SQLite database\n",
    "    conn = sqlite3.connect('Flask_Feedback.db')\n",
    "    c = conn.cursor()\n",
    "\n",
    "    # Create the feedback table if it doesn't exist\n",
    "    c.execute('''CREATE TABLE IF NOT EXISTS feedback\n",
    "                 (name TEXT, email TEXT, feedback TEXT)''')\n",
    "\n",
    "    # Insert the feedback into the database\n",
    "    c.execute(\"INSERT INTO feedback (name, email, feedback) VALUES (?, ?, ?)\",\n",
    "              (name, email, feedback))\n",
    "\n",
    "    # Commit the insert and close the database connection\n",
    "    conn.commit()\n",
    "    conn.close()\n",
    "\n",
    "    # Return a success message\n",
    "    return jsonify({'status':'success'})\n",
    "\n",
    "if __name__ == \"__main__\":\n",
    "    app.run(debug=False)\n"
   ]
  },
  {
   "cell_type": "code",
   "execution_count": null,
   "id": "966eabb9-4c83-4fae-a12b-6e94c1bdbaf4",
   "metadata": {},
   "outputs": [],
   "source": []
  },
  {
   "cell_type": "code",
   "execution_count": null,
   "id": "35f9e1d4-65aa-49dc-9346-0e4c655a93b9",
   "metadata": {},
   "outputs": [],
   "source": []
  }
 ],
 "metadata": {
  "kernelspec": {
   "display_name": "Python 3 (ipykernel)",
   "language": "python",
   "name": "python3"
  },
  "language_info": {
   "codemirror_mode": {
    "name": "ipython",
    "version": 3
   },
   "file_extension": ".py",
   "mimetype": "text/x-python",
   "name": "python",
   "nbconvert_exporter": "python",
   "pygments_lexer": "ipython3",
   "version": "3.11.7"
  }
 },
 "nbformat": 4,
 "nbformat_minor": 5
}
